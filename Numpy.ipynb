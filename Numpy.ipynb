{
  "nbformat": 4,
  "nbformat_minor": 0,
  "metadata": {
    "colab": {
      "name": "Numpy.ipynb",
      "provenance": [],
      "collapsed_sections": []
    },
    "kernelspec": {
      "name": "python3",
      "display_name": "Python 3"
    }
  },
  "cells": [
    {
      "cell_type": "markdown",
      "metadata": {
        "id": "9oQ06wXovDPK",
        "colab_type": "text"
      },
      "source": [
        "Programación para la Computación cientifica\n",
        "\n",
        "Taller Evaluado de Numpy\n",
        "\n",
        "Nico Patalagua"
      ]
    },
    {
      "cell_type": "markdown",
      "metadata": {
        "id": "TUD1o1k0oyc8",
        "colab_type": "text"
      },
      "source": [
        "1. Import the numpy package under the name `np`."
      ]
    },
    {
      "cell_type": "code",
      "metadata": {
        "id": "vSPOyLTvneTS",
        "colab_type": "code",
        "colab": {}
      },
      "source": [
        "import numpy as np "
      ],
      "execution_count": 0,
      "outputs": []
    },
    {
      "cell_type": "markdown",
      "metadata": {
        "id": "-aV888g9o68v",
        "colab_type": "text"
      },
      "source": [
        "2. Print the numpy version and the configuration."
      ]
    },
    {
      "cell_type": "code",
      "metadata": {
        "id": "0ipP3qVSnsLk",
        "colab_type": "code",
        "outputId": "b2de4656-cc30-4297-bf26-e11e462a3599",
        "colab": {
          "base_uri": "https://localhost:8080/",
          "height": 469
        }
      },
      "source": [
        "np.version.version\n",
        "np.show_config()"
      ],
      "execution_count": 3,
      "outputs": [
        {
          "output_type": "stream",
          "text": [
            "blas_mkl_info:\n",
            "  NOT AVAILABLE\n",
            "blis_info:\n",
            "  NOT AVAILABLE\n",
            "openblas_info:\n",
            "    libraries = ['openblas', 'openblas']\n",
            "    library_dirs = ['/usr/local/lib']\n",
            "    language = c\n",
            "    define_macros = [('HAVE_CBLAS', None)]\n",
            "blas_opt_info:\n",
            "    libraries = ['openblas', 'openblas']\n",
            "    library_dirs = ['/usr/local/lib']\n",
            "    language = c\n",
            "    define_macros = [('HAVE_CBLAS', None)]\n",
            "lapack_mkl_info:\n",
            "  NOT AVAILABLE\n",
            "openblas_lapack_info:\n",
            "    libraries = ['openblas', 'openblas']\n",
            "    library_dirs = ['/usr/local/lib']\n",
            "    language = c\n",
            "    define_macros = [('HAVE_CBLAS', None)]\n",
            "lapack_opt_info:\n",
            "    libraries = ['openblas', 'openblas']\n",
            "    library_dirs = ['/usr/local/lib']\n",
            "    language = c\n",
            "    define_macros = [('HAVE_CBLAS', None)]\n"
          ],
          "name": "stdout"
        }
      ]
    },
    {
      "cell_type": "markdown",
      "metadata": {
        "id": "wcycrS0Oo-3o",
        "colab_type": "text"
      },
      "source": [
        "3. Create a null vector of size 10."
      ]
    },
    {
      "cell_type": "code",
      "metadata": {
        "id": "f_7p7Qh0oVS8",
        "colab_type": "code",
        "outputId": "5e404f6e-e91e-49fa-fd21-058c7dadef7c",
        "colab": {
          "base_uri": "https://localhost:8080/",
          "height": 34
        }
      },
      "source": [
        "x = np.zeros(10)\n",
        "print(x)"
      ],
      "execution_count": 4,
      "outputs": [
        {
          "output_type": "stream",
          "text": [
            "[0. 0. 0. 0. 0. 0. 0. 0. 0. 0.]\n"
          ],
          "name": "stdout"
        }
      ]
    },
    {
      "cell_type": "markdown",
      "metadata": {
        "id": "ZZwnoR3RpQPx",
        "colab_type": "text"
      },
      "source": [
        "4. How to find the memory size of any array."
      ]
    },
    {
      "cell_type": "code",
      "metadata": {
        "id": "QXRKtASyocXx",
        "colab_type": "code",
        "outputId": "34967aab-2db5-460f-a57a-781c0e295db4",
        "colab": {
          "base_uri": "https://localhost:8080/",
          "height": 34
        }
      },
      "source": [
        "x= np.zeros((10,10))\n",
        "print(\"%d bytes\" % (x.size * x.itemsize))"
      ],
      "execution_count": 5,
      "outputs": [
        {
          "output_type": "stream",
          "text": [
            "800 bytes\n"
          ],
          "name": "stdout"
        }
      ]
    },
    {
      "cell_type": "markdown",
      "metadata": {
        "id": "ALyQi_autU49",
        "colab_type": "text"
      },
      "source": [
        "5. How to get the documentation of the numpy add function from the command line?."
      ]
    },
    {
      "cell_type": "code",
      "metadata": {
        "id": "QMfF4kKspSTZ",
        "colab_type": "code",
        "outputId": "b8889b25-7df8-498a-b9e7-11c25743655b",
        "colab": {
          "base_uri": "https://localhost:8080/",
          "height": 34
        }
      },
      "source": [
        "%run `python -c \"import numpy; numpy.info(numpy.add)\"`"
      ],
      "execution_count": 6,
      "outputs": [
        {
          "output_type": "stream",
          "text": [
            "ERROR:root:File `'`python.py'` not found.\n"
          ],
          "name": "stderr"
        }
      ]
    },
    {
      "cell_type": "code",
      "metadata": {
        "id": "3-4A8Xir92zI",
        "colab_type": "code",
        "colab": {}
      },
      "source": [
        "np.info(np.add)"
      ],
      "execution_count": 0,
      "outputs": []
    },
    {
      "cell_type": "markdown",
      "metadata": {
        "id": "H5A6jbLavAFD",
        "colab_type": "text"
      },
      "source": [
        "6. Create a null vector of size 10 but the fifth value which is 1."
      ]
    },
    {
      "cell_type": "code",
      "metadata": {
        "id": "2BPjuhOQtYG0",
        "colab_type": "code",
        "outputId": "33ab113e-6afd-48fc-a9a0-2ce882333cd2",
        "colab": {
          "base_uri": "https://localhost:8080/",
          "height": 34
        }
      },
      "source": [
        "x= np.zeros(10)\n",
        "x[4] = 1\n",
        "print(x)"
      ],
      "execution_count": 11,
      "outputs": [
        {
          "output_type": "stream",
          "text": [
            "[0. 0. 0. 0. 1. 0. 0. 0. 0. 0.]\n"
          ],
          "name": "stdout"
        }
      ]
    },
    {
      "cell_type": "markdown",
      "metadata": {
        "id": "TWNFocG9vgq0",
        "colab_type": "text"
      },
      "source": [
        "7. Create a vector with values ranging from 10 to 49."
      ]
    },
    {
      "cell_type": "code",
      "metadata": {
        "id": "GAC-i26rvg3W",
        "colab_type": "code",
        "outputId": "f2f1a760-1edd-467e-b6f8-fc42d4dd30ac",
        "colab": {
          "base_uri": "https://localhost:8080/",
          "height": 52
        }
      },
      "source": [
        "x = np.arange(10,50)\n",
        "print(x)"
      ],
      "execution_count": 12,
      "outputs": [
        {
          "output_type": "stream",
          "text": [
            "[10 11 12 13 14 15 16 17 18 19 20 21 22 23 24 25 26 27 28 29 30 31 32 33\n",
            " 34 35 36 37 38 39 40 41 42 43 44 45 46 47 48 49]\n"
          ],
          "name": "stdout"
        }
      ]
    },
    {
      "cell_type": "markdown",
      "metadata": {
        "id": "uRHbMjJmv_fS",
        "colab_type": "text"
      },
      "source": [
        "8. Reverse a vector (first element becomes last)."
      ]
    },
    {
      "cell_type": "code",
      "metadata": {
        "id": "D2WdDlJ-wCrW",
        "colab_type": "code",
        "outputId": "c9fd92db-5eca-41cf-eccf-0ad5b89d8131",
        "colab": {
          "base_uri": "https://localhost:8080/",
          "height": 69
        }
      },
      "source": [
        "x = np.arange(50)\n",
        "x = x[::-1]\n",
        "print(x)"
      ],
      "execution_count": 0,
      "outputs": [
        {
          "output_type": "stream",
          "text": [
            "[49 48 47 46 45 44 43 42 41 40 39 38 37 36 35 34 33 32 31 30 29 28 27 26\n",
            " 25 24 23 22 21 20 19 18 17 16 15 14 13 12 11 10  9  8  7  6  5  4  3  2\n",
            "  1  0]\n"
          ],
          "name": "stdout"
        }
      ]
    },
    {
      "cell_type": "markdown",
      "metadata": {
        "id": "7b9p5xZ3wH3A",
        "colab_type": "text"
      },
      "source": [
        "9. Create a 3x3 matrix with values ranging from 0 to 8."
      ]
    },
    {
      "cell_type": "code",
      "metadata": {
        "id": "ZJSy6Ml6wK0h",
        "colab_type": "code",
        "outputId": "38649f4f-24ae-4dba-9a3e-1d07485bbd1b",
        "colab": {
          "base_uri": "https://localhost:8080/",
          "height": 69
        }
      },
      "source": [
        "x =  np.arange(0, 9).reshape(3,3)\n",
        "print(x)"
      ],
      "execution_count": 13,
      "outputs": [
        {
          "output_type": "stream",
          "text": [
            "[[0 1 2]\n",
            " [3 4 5]\n",
            " [6 7 8]]\n"
          ],
          "name": "stdout"
        }
      ]
    },
    {
      "cell_type": "markdown",
      "metadata": {
        "id": "IpY_bm0AwaCo",
        "colab_type": "text"
      },
      "source": [
        "10. Find indices of non-zero elements from [1,2,0,0,4,0]."
      ]
    },
    {
      "cell_type": "code",
      "metadata": {
        "id": "cEow4tREwckU",
        "colab_type": "code",
        "outputId": "23d012fa-7984-4461-fda1-d63a6772229f",
        "colab": {
          "base_uri": "https://localhost:8080/",
          "height": 34
        }
      },
      "source": [
        "x = np.nonzero([1,2,0,0,4,0])\n",
        "print(x)"
      ],
      "execution_count": 14,
      "outputs": [
        {
          "output_type": "stream",
          "text": [
            "(array([0, 1, 4]),)\n"
          ],
          "name": "stdout"
        }
      ]
    },
    {
      "cell_type": "markdown",
      "metadata": {
        "id": "UPDXtOXNw5gx",
        "colab_type": "text"
      },
      "source": [
        "11. Create a 3x3 identity matrix."
      ]
    },
    {
      "cell_type": "code",
      "metadata": {
        "id": "LIyAGIIjw7r2",
        "colab_type": "code",
        "outputId": "1b220f24-24b8-4fc6-995d-15bd139cc142",
        "colab": {
          "base_uri": "https://localhost:8080/",
          "height": 69
        }
      },
      "source": [
        "x = np.eye(3)\n",
        "print(x)"
      ],
      "execution_count": 15,
      "outputs": [
        {
          "output_type": "stream",
          "text": [
            "[[1. 0. 0.]\n",
            " [0. 1. 0.]\n",
            " [0. 0. 1.]]\n"
          ],
          "name": "stdout"
        }
      ]
    },
    {
      "cell_type": "markdown",
      "metadata": {
        "id": "v5u46cvRxC6K",
        "colab_type": "text"
      },
      "source": [
        "12. Create a 3x3x3 array with random values."
      ]
    },
    {
      "cell_type": "code",
      "metadata": {
        "id": "U7YRiIuKxYSg",
        "colab_type": "code",
        "outputId": "249c9716-4c57-403f-bf15-ebbde0f79a7a",
        "colab": {
          "base_uri": "https://localhost:8080/",
          "height": 208
        }
      },
      "source": [
        "x = np.random.random((3,3,3))\n",
        "print(x)"
      ],
      "execution_count": 16,
      "outputs": [
        {
          "output_type": "stream",
          "text": [
            "[[[0.57735165 0.13833089 0.30827209]\n",
            "  [0.36552315 0.32293258 0.0426784 ]\n",
            "  [0.71007951 0.67311445 0.71098171]]\n",
            "\n",
            " [[0.84919953 0.21821926 0.79234011]\n",
            "  [0.91096478 0.17764479 0.7413266 ]\n",
            "  [0.08419017 0.33938528 0.39694713]]\n",
            "\n",
            " [[0.65839921 0.66264685 0.40583485]\n",
            "  [0.90937981 0.55666961 0.55895311]\n",
            "  [0.09508592 0.03643199 0.08781656]]]\n"
          ],
          "name": "stdout"
        }
      ]
    },
    {
      "cell_type": "markdown",
      "metadata": {
        "id": "Vb9sXSFQxbvL",
        "colab_type": "text"
      },
      "source": [
        "13. Create a 10x10 array with random values and find the minimum and maximum values."
      ]
    },
    {
      "cell_type": "code",
      "metadata": {
        "id": "cvOcBOZQxegT",
        "colab_type": "code",
        "outputId": "2126050a-fd31-4b4e-c682-5e81ea376021",
        "colab": {
          "base_uri": "https://localhost:8080/",
          "height": 34
        }
      },
      "source": [
        "x = np.random.random((10,10))\n",
        "xmin, xmax = x.min(), x.max()\n",
        "print(xmin, xmax)"
      ],
      "execution_count": 17,
      "outputs": [
        {
          "output_type": "stream",
          "text": [
            "0.0011718160683460432 0.999744743587465\n"
          ],
          "name": "stdout"
        }
      ]
    },
    {
      "cell_type": "markdown",
      "metadata": {
        "id": "hcyshESJxl4U",
        "colab_type": "text"
      },
      "source": [
        "14. Create a random vector of size 30 and find the mean value."
      ]
    },
    {
      "cell_type": "code",
      "metadata": {
        "id": "71jK488fxrWF",
        "colab_type": "code",
        "outputId": "e1a4bbbc-c43d-4d24-a0dd-d43122d8fdc2",
        "colab": {
          "base_uri": "https://localhost:8080/",
          "height": 34
        }
      },
      "source": [
        "x = np.random.random(30)\n",
        "x1 = x.mean()\n",
        "print(x1)"
      ],
      "execution_count": 18,
      "outputs": [
        {
          "output_type": "stream",
          "text": [
            "0.448837845660199\n"
          ],
          "name": "stdout"
        }
      ]
    },
    {
      "cell_type": "markdown",
      "metadata": {
        "id": "6WgN-4HpxzaW",
        "colab_type": "text"
      },
      "source": [
        "15. Create a 2d array with 1 on the border and 0 inside."
      ]
    },
    {
      "cell_type": "code",
      "metadata": {
        "id": "LCF1J6T39bsE",
        "colab_type": "code",
        "colab": {
          "base_uri": "https://localhost:8080/",
          "height": 191
        },
        "outputId": "00603946-d27c-4f58-e0db-d87aacf6bcc3"
      },
      "source": [
        "x = np.ones((10,10))\n",
        "x[1:-1,1:-1] = 0\n",
        "print(x)"
      ],
      "execution_count": 19,
      "outputs": [
        {
          "output_type": "stream",
          "text": [
            "[[1. 1. 1. 1. 1. 1. 1. 1. 1. 1.]\n",
            " [1. 0. 0. 0. 0. 0. 0. 0. 0. 1.]\n",
            " [1. 0. 0. 0. 0. 0. 0. 0. 0. 1.]\n",
            " [1. 0. 0. 0. 0. 0. 0. 0. 0. 1.]\n",
            " [1. 0. 0. 0. 0. 0. 0. 0. 0. 1.]\n",
            " [1. 0. 0. 0. 0. 0. 0. 0. 0. 1.]\n",
            " [1. 0. 0. 0. 0. 0. 0. 0. 0. 1.]\n",
            " [1. 0. 0. 0. 0. 0. 0. 0. 0. 1.]\n",
            " [1. 0. 0. 0. 0. 0. 0. 0. 0. 1.]\n",
            " [1. 1. 1. 1. 1. 1. 1. 1. 1. 1.]]\n"
          ],
          "name": "stdout"
        }
      ]
    },
    {
      "cell_type": "markdown",
      "metadata": {
        "id": "TaeRbAOUx4CF",
        "colab_type": "text"
      },
      "source": [
        "16. How to add a border (filled with 0's) around an existing array?."
      ]
    },
    {
      "cell_type": "code",
      "metadata": {
        "id": "GMjs6t59-LtE",
        "colab_type": "code",
        "colab": {
          "base_uri": "https://localhost:8080/",
          "height": 139
        },
        "outputId": "f78aab85-ff58-423e-dd0b-a7c70ddd066a"
      },
      "source": [
        "x= np.ones((5,5))\n",
        "x= np.pad(x, pad_width=1, mode='constant', constant_values=0)\n",
        "print(x)"
      ],
      "execution_count": 24,
      "outputs": [
        {
          "output_type": "stream",
          "text": [
            "[[0. 0. 0. 0. 0. 0. 0.]\n",
            " [0. 1. 1. 1. 1. 1. 0.]\n",
            " [0. 1. 1. 1. 1. 1. 0.]\n",
            " [0. 1. 1. 1. 1. 1. 0.]\n",
            " [0. 1. 1. 1. 1. 1. 0.]\n",
            " [0. 1. 1. 1. 1. 1. 0.]\n",
            " [0. 0. 0. 0. 0. 0. 0.]]\n"
          ],
          "name": "stdout"
        }
      ]
    },
    {
      "cell_type": "markdown",
      "metadata": {
        "id": "25ECZKw4x7mS",
        "colab_type": "text"
      },
      "source": [
        "17. What is the result of the following expression?."
      ]
    },
    {
      "cell_type": "code",
      "metadata": {
        "id": "774fyLav-XcY",
        "colab_type": "code",
        "colab": {
          "base_uri": "https://localhost:8080/",
          "height": 121
        },
        "outputId": "f4b7941e-6c74-46b2-bdc7-03edb0dcfb7d"
      },
      "source": [
        "print(0 * np.nan)\n",
        "print(np.nan == np.nan)\n",
        "print(np.inf > np.nan)\n",
        "print(np.nan - np.nan)\n",
        "print(np.nan in set([np.nan]))\n",
        "print(0.3 == 3 * 0.1)"
      ],
      "execution_count": 25,
      "outputs": [
        {
          "output_type": "stream",
          "text": [
            "nan\n",
            "False\n",
            "False\n",
            "nan\n",
            "True\n",
            "False\n"
          ],
          "name": "stdout"
        }
      ]
    },
    {
      "cell_type": "markdown",
      "metadata": {
        "id": "QGLoCjmox-BD",
        "colab_type": "text"
      },
      "source": [
        "18. Create a 5x5 matrix with values 1,2,3,4 just below the diagonal."
      ]
    },
    {
      "cell_type": "code",
      "metadata": {
        "id": "QSBDUhY6_Lwj",
        "colab_type": "code",
        "colab": {
          "base_uri": "https://localhost:8080/",
          "height": 104
        },
        "outputId": "d7557efd-b45f-4598-c6d9-c5f28040adee"
      },
      "source": [
        "x= np.diag(1+np.arange(4),k=-1)\n",
        "print(x)"
      ],
      "execution_count": 26,
      "outputs": [
        {
          "output_type": "stream",
          "text": [
            "[[0 0 0 0 0]\n",
            " [1 0 0 0 0]\n",
            " [0 2 0 0 0]\n",
            " [0 0 3 0 0]\n",
            " [0 0 0 4 0]]\n"
          ],
          "name": "stdout"
        }
      ]
    },
    {
      "cell_type": "markdown",
      "metadata": {
        "id": "rMlxZureyBKY",
        "colab_type": "text"
      },
      "source": [
        "19. Create a 8x8 matrix and fill it with a checkerboard pattern."
      ]
    },
    {
      "cell_type": "code",
      "metadata": {
        "id": "cS_-7YeK_STk",
        "colab_type": "code",
        "colab": {
          "base_uri": "https://localhost:8080/",
          "height": 156
        },
        "outputId": "89ecb246-67d6-4edc-dc74-f897326ea82b"
      },
      "source": [
        "x = np.zeros((8,8),dtype=int)\n",
        "x[1::2,::2] = 1\n",
        "x[::2,1::2] = 1\n",
        "print(x)"
      ],
      "execution_count": 27,
      "outputs": [
        {
          "output_type": "stream",
          "text": [
            "[[0 1 0 1 0 1 0 1]\n",
            " [1 0 1 0 1 0 1 0]\n",
            " [0 1 0 1 0 1 0 1]\n",
            " [1 0 1 0 1 0 1 0]\n",
            " [0 1 0 1 0 1 0 1]\n",
            " [1 0 1 0 1 0 1 0]\n",
            " [0 1 0 1 0 1 0 1]\n",
            " [1 0 1 0 1 0 1 0]]\n"
          ],
          "name": "stdout"
        }
      ]
    },
    {
      "cell_type": "markdown",
      "metadata": {
        "id": "6nVFbTISyDgD",
        "colab_type": "text"
      },
      "source": [
        "20. Consider a (6,7,8) shape array, what is the index (x,y,z) of the 100th element?."
      ]
    },
    {
      "cell_type": "code",
      "metadata": {
        "id": "tQlwEb_3_c7C",
        "colab_type": "code",
        "colab": {
          "base_uri": "https://localhost:8080/",
          "height": 34
        },
        "outputId": "c04d0de2-cad3-40f8-a3f6-9163a9e3714b"
      },
      "source": [
        "print(np.unravel_index(99,(6,7,8)))"
      ],
      "execution_count": 28,
      "outputs": [
        {
          "output_type": "stream",
          "text": [
            "(1, 5, 3)\n"
          ],
          "name": "stdout"
        }
      ]
    },
    {
      "cell_type": "markdown",
      "metadata": {
        "id": "GVIxx7pwyFz2",
        "colab_type": "text"
      },
      "source": [
        "21. Create a checkerboard 8x8 matrix using the tile function."
      ]
    },
    {
      "cell_type": "code",
      "metadata": {
        "id": "Wxq4kfVD_lUt",
        "colab_type": "code",
        "colab": {
          "base_uri": "https://localhost:8080/",
          "height": 156
        },
        "outputId": "0acdb413-774d-4a5f-b4da-3f13195b1702"
      },
      "source": [
        "x = np.tile( np.array([[0,1],[1,0]]), (4,4))\n",
        "print(x)"
      ],
      "execution_count": 29,
      "outputs": [
        {
          "output_type": "stream",
          "text": [
            "[[0 1 0 1 0 1 0 1]\n",
            " [1 0 1 0 1 0 1 0]\n",
            " [0 1 0 1 0 1 0 1]\n",
            " [1 0 1 0 1 0 1 0]\n",
            " [0 1 0 1 0 1 0 1]\n",
            " [1 0 1 0 1 0 1 0]\n",
            " [0 1 0 1 0 1 0 1]\n",
            " [1 0 1 0 1 0 1 0]]\n"
          ],
          "name": "stdout"
        }
      ]
    },
    {
      "cell_type": "markdown",
      "metadata": {
        "id": "ITQlr_vKyIm9",
        "colab_type": "text"
      },
      "source": [
        "22. Normalize a 5x5 random matrix."
      ]
    },
    {
      "cell_type": "code",
      "metadata": {
        "id": "64-0lSYx_2YU",
        "colab_type": "code",
        "colab": {
          "base_uri": "https://localhost:8080/",
          "height": 104
        },
        "outputId": "53d96b3c-18ad-41bf-edb0-d84042635632"
      },
      "source": [
        "x = np.random.random((5,5))\n",
        "x = (x - np.mean (x)) / (np.std (x))\n",
        "print(x)"
      ],
      "execution_count": 30,
      "outputs": [
        {
          "output_type": "stream",
          "text": [
            "[[-1.14886925 -1.25194505  1.11245463 -0.73728405  0.55572055]\n",
            " [-0.13126056  1.06377288  1.46118815  1.48071171 -1.11952055]\n",
            " [-1.31799727  1.6558928   0.71259418 -0.46956235 -0.87504612]\n",
            " [ 1.21806688  0.09479064  1.06352032 -0.39178823 -0.30580471]\n",
            " [-1.59731458  0.56399963 -1.00077051 -0.75145704  0.1159079 ]]\n"
          ],
          "name": "stdout"
        }
      ]
    },
    {
      "cell_type": "markdown",
      "metadata": {
        "id": "qVuYNnpeyMTX",
        "colab_type": "text"
      },
      "source": [
        "23. Create a custom dtype that describes a color as four unsigned bytes (RGBA)."
      ]
    },
    {
      "cell_type": "code",
      "metadata": {
        "id": "wPtxjgJsAAhW",
        "colab_type": "code",
        "colab": {
          "base_uri": "https://localhost:8080/",
          "height": 72
        },
        "outputId": "b30149b0-0ca9-4e84-d97d-10313490d5a0"
      },
      "source": [
        "color = np.dtype([(\"r\", np.ubyte, 1),\n",
        "                  (\"g\", np.ubyte, 1),\n",
        "                  (\"b\", np.ubyte, 1),\n",
        "                  (\"a\", np.ubyte, 1)])"
      ],
      "execution_count": 32,
      "outputs": [
        {
          "output_type": "stream",
          "text": [
            "/usr/local/lib/python3.6/dist-packages/ipykernel_launcher.py:4: FutureWarning: Passing (type, 1) or '1type' as a synonym of type is deprecated; in a future version of numpy, it will be understood as (type, (1,)) / '(1,)type'.\n",
            "  after removing the cwd from sys.path.\n"
          ],
          "name": "stderr"
        }
      ]
    },
    {
      "cell_type": "markdown",
      "metadata": {
        "id": "ZlsCW33OyP5V",
        "colab_type": "text"
      },
      "source": [
        "24. Multiply a 5x3 matrix by a 3x2 matrix (real matrix product)."
      ]
    },
    {
      "cell_type": "code",
      "metadata": {
        "id": "-ON3wBtxAH6C",
        "colab_type": "code",
        "colab": {
          "base_uri": "https://localhost:8080/",
          "height": 104
        },
        "outputId": "4bdacdad-6f52-44ce-b12e-c05b5322e738"
      },
      "source": [
        "x = np.dot(np.ones((5,3)), np.ones((3,2)))\n",
        "print(x)"
      ],
      "execution_count": 33,
      "outputs": [
        {
          "output_type": "stream",
          "text": [
            "[[3. 3.]\n",
            " [3. 3.]\n",
            " [3. 3.]\n",
            " [3. 3.]\n",
            " [3. 3.]]\n"
          ],
          "name": "stdout"
        }
      ]
    },
    {
      "cell_type": "markdown",
      "metadata": {
        "id": "adwFhHowyb3k",
        "colab_type": "text"
      },
      "source": [
        "25. Given a 1D array, negate all elements which are between 3 and 8, in place. "
      ]
    },
    {
      "cell_type": "code",
      "metadata": {
        "id": "Ogf_kwj7Ak6z",
        "colab_type": "code",
        "colab": {
          "base_uri": "https://localhost:8080/",
          "height": 34
        },
        "outputId": "cc532213-e878-4e0b-bb98-126de8f813ef"
      },
      "source": [
        "x = np.arange(11)\n",
        "x[(3 < x) & (x <= 8)] *= -1\n",
        "print(x)"
      ],
      "execution_count": 34,
      "outputs": [
        {
          "output_type": "stream",
          "text": [
            "[ 0  1  2  3 -4 -5 -6 -7 -8  9 10]\n"
          ],
          "name": "stdout"
        }
      ]
    },
    {
      "cell_type": "markdown",
      "metadata": {
        "id": "w1gyRW-OyhIo",
        "colab_type": "text"
      },
      "source": [
        "26. What is the output of the following script?."
      ]
    },
    {
      "cell_type": "code",
      "metadata": {
        "id": "FcmRJz0vAu4I",
        "colab_type": "code",
        "colab": {
          "base_uri": "https://localhost:8080/",
          "height": 52
        },
        "outputId": "79dcc478-2271-4d11-ff1e-798b7d5b8416"
      },
      "source": [
        "print(sum(range(5),-1))\n",
        "from numpy import *\n",
        "print(sum(range(5),-1))"
      ],
      "execution_count": 37,
      "outputs": [
        {
          "output_type": "stream",
          "text": [
            "10\n",
            "10\n"
          ],
          "name": "stdout"
        }
      ]
    },
    {
      "cell_type": "markdown",
      "metadata": {
        "id": "jHkCaP9SyjiT",
        "colab_type": "text"
      },
      "source": [
        "27. Consider an integer vector Z, which of these expressions are legal?."
      ]
    },
    {
      "cell_type": "code",
      "metadata": {
        "id": "iIdKk7S8A9tb",
        "colab_type": "code",
        "colab": {
          "base_uri": "https://localhost:8080/",
          "height": 222
        },
        "outputId": "6afca659-e900-487d-ff0f-09bdf3eea21d"
      },
      "source": [
        "Z = np.arange(11)\n",
        "Z**Z\n",
        "2 << Z >> 2\n",
        "Z <- Z\n",
        "1j*Z\n",
        "Z/1/1\n",
        "Z<Z>Z"
      ],
      "execution_count": 42,
      "outputs": [
        {
          "output_type": "error",
          "ename": "ValueError",
          "evalue": "ignored",
          "traceback": [
            "\u001b[0;31m---------------------------------------------------------------------------\u001b[0m",
            "\u001b[0;31mValueError\u001b[0m                                Traceback (most recent call last)",
            "\u001b[0;32m<ipython-input-42-9645ae9e3bce>\u001b[0m in \u001b[0;36m<module>\u001b[0;34m()\u001b[0m\n\u001b[1;32m      5\u001b[0m \u001b[0;36m1j\u001b[0m\u001b[0;34m*\u001b[0m\u001b[0mZ\u001b[0m\u001b[0;34m\u001b[0m\u001b[0;34m\u001b[0m\u001b[0m\n\u001b[1;32m      6\u001b[0m \u001b[0mZ\u001b[0m\u001b[0;34m/\u001b[0m\u001b[0;36m1\u001b[0m\u001b[0;34m/\u001b[0m\u001b[0;36m1\u001b[0m\u001b[0;34m\u001b[0m\u001b[0;34m\u001b[0m\u001b[0m\n\u001b[0;32m----> 7\u001b[0;31m \u001b[0mZ\u001b[0m\u001b[0;34m<\u001b[0m\u001b[0mZ\u001b[0m\u001b[0;34m>\u001b[0m\u001b[0mZ\u001b[0m\u001b[0;34m\u001b[0m\u001b[0;34m\u001b[0m\u001b[0m\n\u001b[0m",
            "\u001b[0;31mValueError\u001b[0m: The truth value of an array with more than one element is ambiguous. Use a.any() or a.all()"
          ]
        }
      ]
    },
    {
      "cell_type": "markdown",
      "metadata": {
        "id": "_5Uq8kk7ylrs",
        "colab_type": "text"
      },
      "source": [
        "28. What are the result of the following expressions?."
      ]
    },
    {
      "cell_type": "code",
      "metadata": {
        "id": "wkVAQBDhBX64",
        "colab_type": "code",
        "colab": {
          "base_uri": "https://localhost:8080/",
          "height": 159
        },
        "outputId": "5a00250e-6857-4d33-a4ea-9ba637720528"
      },
      "source": [
        "print(np.array(0) / np.array(0))\n",
        "print(np.array(0) // np.array(0))\n",
        "print(np.array([np.nan]).astype(int).astype(float))"
      ],
      "execution_count": 43,
      "outputs": [
        {
          "output_type": "stream",
          "text": [
            "nan\n",
            "0\n",
            "[-9.22337204e+18]\n"
          ],
          "name": "stdout"
        },
        {
          "output_type": "stream",
          "text": [
            "/usr/local/lib/python3.6/dist-packages/ipykernel_launcher.py:1: RuntimeWarning: invalid value encountered in true_divide\n",
            "  \"\"\"Entry point for launching an IPython kernel.\n",
            "/usr/local/lib/python3.6/dist-packages/ipykernel_launcher.py:2: RuntimeWarning: divide by zero encountered in floor_divide\n",
            "  \n"
          ],
          "name": "stderr"
        }
      ]
    },
    {
      "cell_type": "markdown",
      "metadata": {
        "id": "w7_c2t0Dynwd",
        "colab_type": "text"
      },
      "source": [
        "29. How to round away from zero a float array ?."
      ]
    },
    {
      "cell_type": "code",
      "metadata": {
        "id": "XDHykWCzBgnf",
        "colab_type": "code",
        "colab": {
          "base_uri": "https://localhost:8080/",
          "height": 34
        },
        "outputId": "c363198f-2b87-4245-e793-e3775e0d8b34"
      },
      "source": [
        "x = np.random.uniform(-10,+10,10)\n",
        "print (np.copysign(np.ceil(np.abs(x)), x))"
      ],
      "execution_count": 44,
      "outputs": [
        {
          "output_type": "stream",
          "text": [
            "[-1. -4.  9.  6.  2.  6. -2. 10.  2. 10.]\n"
          ],
          "name": "stdout"
        }
      ]
    },
    {
      "cell_type": "markdown",
      "metadata": {
        "id": "okubazhGyp2Q",
        "colab_type": "text"
      },
      "source": [
        "30. How to find common values between two arrays?."
      ]
    },
    {
      "cell_type": "code",
      "metadata": {
        "id": "qY1N1yckBsM3",
        "colab_type": "code",
        "colab": {
          "base_uri": "https://localhost:8080/",
          "height": 34
        },
        "outputId": "5eafbd31-06a4-4d97-b973-742593728d2a"
      },
      "source": [
        "x1 = np.random.randint(0,10,10)\n",
        "x2 = np.random.randint(0,10,10)\n",
        "print(np.intersect1d(x1,x2))"
      ],
      "execution_count": 46,
      "outputs": [
        {
          "output_type": "stream",
          "text": [
            "[2 3 4 7 8 9]\n"
          ],
          "name": "stdout"
        }
      ]
    },
    {
      "cell_type": "markdown",
      "metadata": {
        "id": "xX-g6t9SyruX",
        "colab_type": "text"
      },
      "source": [
        "31. How to ignore all numpy warnings (not recommended)?."
      ]
    },
    {
      "cell_type": "code",
      "metadata": {
        "id": "VtNIunnrB4TC",
        "colab_type": "code",
        "colab": {
          "base_uri": "https://localhost:8080/",
          "height": 34
        },
        "outputId": "eafc2067-8125-404d-9899-06ecd9522fee"
      },
      "source": [
        "a = np.seterr(all=\"ignore\")\n",
        "x = np.ones(1) / 0\n",
        "_ = np.seterr(**a)\n",
        "n = np.nonzero([1,2,0,0,4,0])\n",
        "print(n)"
      ],
      "execution_count": 51,
      "outputs": [
        {
          "output_type": "stream",
          "text": [
            "(array([0, 1, 4]),)\n"
          ],
          "name": "stdout"
        }
      ]
    },
    {
      "cell_type": "markdown",
      "metadata": {
        "id": "aHmo7l_FyuBm",
        "colab_type": "text"
      },
      "source": [
        "32. Is the following expressions true?."
      ]
    },
    {
      "cell_type": "code",
      "metadata": {
        "id": "HQip68lPCUB2",
        "colab_type": "code",
        "colab": {
          "base_uri": "https://localhost:8080/",
          "height": 89
        },
        "outputId": "b7622743-2ca0-45d9-9255-f774b1a4e1bc"
      },
      "source": [
        "np.sqrt(-1) == np.emath.sqrt(-1)"
      ],
      "execution_count": 52,
      "outputs": [
        {
          "output_type": "stream",
          "text": [
            "/usr/local/lib/python3.6/dist-packages/ipykernel_launcher.py:1: RuntimeWarning: invalid value encountered in sqrt\n",
            "  \"\"\"Entry point for launching an IPython kernel.\n"
          ],
          "name": "stderr"
        },
        {
          "output_type": "execute_result",
          "data": {
            "text/plain": [
              "False"
            ]
          },
          "metadata": {
            "tags": []
          },
          "execution_count": 52
        }
      ]
    },
    {
      "cell_type": "markdown",
      "metadata": {
        "id": "h36n-M3wywtm",
        "colab_type": "text"
      },
      "source": [
        "33. How to get the dates of yesterday, today and tomorrow?."
      ]
    },
    {
      "cell_type": "code",
      "metadata": {
        "id": "tPwC_2AxCmyY",
        "colab_type": "code",
        "colab": {
          "base_uri": "https://localhost:8080/",
          "height": 69
        },
        "outputId": "56b1fce3-a445-404e-f55c-546fc527d9fc"
      },
      "source": [
        "yesterday= np.datetime64('today', 'D') - np.timedelta64(1, 'D')\n",
        "today= np.datetime64('today', 'D')\n",
        "tomorrow= np.datetime64('today', 'D') + np.timedelta64(1, 'D')\n",
        "print(\"Yesterday \"+str(yesterday))\n",
        "print(\"Today \"+str(today))\n",
        "print(\"Tomorrow \"+str(tomorrow))"
      ],
      "execution_count": 59,
      "outputs": [
        {
          "output_type": "stream",
          "text": [
            "Yesterday 2020-02-22\n",
            "Today 2020-02-23\n",
            "Tomorrow 2020-02-24\n"
          ],
          "name": "stdout"
        }
      ]
    },
    {
      "cell_type": "markdown",
      "metadata": {
        "id": "_pu5WsOFyy7o",
        "colab_type": "text"
      },
      "source": [
        "34. How to get all the dates corresponding to the month of July 2016?."
      ]
    },
    {
      "cell_type": "code",
      "metadata": {
        "id": "D_MViL95DDPD",
        "colab_type": "code",
        "colab": {
          "base_uri": "https://localhost:8080/",
          "height": 139
        },
        "outputId": "cf4a4138-fd62-48f8-b99e-e828c124f573"
      },
      "source": [
        "x = np.arange('2016-07', '2016-08', dtype='datetime64[D]')\n",
        "print(x)"
      ],
      "execution_count": 60,
      "outputs": [
        {
          "output_type": "stream",
          "text": [
            "['2016-07-01' '2016-07-02' '2016-07-03' '2016-07-04' '2016-07-05'\n",
            " '2016-07-06' '2016-07-07' '2016-07-08' '2016-07-09' '2016-07-10'\n",
            " '2016-07-11' '2016-07-12' '2016-07-13' '2016-07-14' '2016-07-15'\n",
            " '2016-07-16' '2016-07-17' '2016-07-18' '2016-07-19' '2016-07-20'\n",
            " '2016-07-21' '2016-07-22' '2016-07-23' '2016-07-24' '2016-07-25'\n",
            " '2016-07-26' '2016-07-27' '2016-07-28' '2016-07-29' '2016-07-30'\n",
            " '2016-07-31']\n"
          ],
          "name": "stdout"
        }
      ]
    },
    {
      "cell_type": "markdown",
      "metadata": {
        "id": "wfHMCxIMy1lN",
        "colab_type": "text"
      },
      "source": [
        "35. How to compute ((A+B)*(-A/2)) in place (without copy)?."
      ]
    },
    {
      "cell_type": "code",
      "metadata": {
        "id": "GCh8dwAhDL66",
        "colab_type": "code",
        "colab": {
          "base_uri": "https://localhost:8080/",
          "height": 34
        },
        "outputId": "b78c42c5-318d-4dda-a144-20864d664698"
      },
      "source": [
        "A = np.ones(3)*1\n",
        "B = np.ones(3)*2\n",
        "C = np.ones(3)*3\n",
        "np.add(A,B,out=B)\n",
        "np.divide(A,2,out=A)\n",
        "np.negative(A,out=A)\n",
        "np.multiply(A,B,out=A)"
      ],
      "execution_count": 61,
      "outputs": [
        {
          "output_type": "execute_result",
          "data": {
            "text/plain": [
              "array([-1.5, -1.5, -1.5])"
            ]
          },
          "metadata": {
            "tags": []
          },
          "execution_count": 61
        }
      ]
    },
    {
      "cell_type": "markdown",
      "metadata": {
        "id": "TyRh_bjPy4D4",
        "colab_type": "text"
      },
      "source": [
        "36. Extract the integer part of a random array using 5 different methods."
      ]
    },
    {
      "cell_type": "code",
      "metadata": {
        "id": "M9K6hss4JhiD",
        "colab_type": "code",
        "colab": {
          "base_uri": "https://localhost:8080/",
          "height": 104
        },
        "outputId": "a5d47b01-1cde-4ba8-b27f-33717f741606"
      },
      "source": [
        "x = np.random.uniform(0,10,10)\n",
        "print (x - x%1)\n",
        "print (np.floor(x))\n",
        "print (np.ceil(x)-1)\n",
        "print (x.astype(int))\n",
        "print (np.trunc(x))"
      ],
      "execution_count": 62,
      "outputs": [
        {
          "output_type": "stream",
          "text": [
            "[5. 2. 2. 1. 0. 1. 9. 9. 7. 3.]\n",
            "[5. 2. 2. 1. 0. 1. 9. 9. 7. 3.]\n",
            "[5. 2. 2. 1. 0. 1. 9. 9. 7. 3.]\n",
            "[5 2 2 1 0 1 9 9 7 3]\n",
            "[5. 2. 2. 1. 0. 1. 9. 9. 7. 3.]\n"
          ],
          "name": "stdout"
        }
      ]
    },
    {
      "cell_type": "markdown",
      "metadata": {
        "id": "lcNNv9_XDOmO",
        "colab_type": "text"
      },
      "source": [
        "37. Create a 5x5 matrix with row values ranging from 0 to 4."
      ]
    },
    {
      "cell_type": "code",
      "metadata": {
        "id": "sxRRe6-lJoLE",
        "colab_type": "code",
        "colab": {
          "base_uri": "https://localhost:8080/",
          "height": 104
        },
        "outputId": "225a7d96-61e6-4df4-d1c0-ff877a9854f3"
      },
      "source": [
        "x = np.zeros((5,5))\n",
        "x += np.arange(5)\n",
        "print(x)"
      ],
      "execution_count": 63,
      "outputs": [
        {
          "output_type": "stream",
          "text": [
            "[[0. 1. 2. 3. 4.]\n",
            " [0. 1. 2. 3. 4.]\n",
            " [0. 1. 2. 3. 4.]\n",
            " [0. 1. 2. 3. 4.]\n",
            " [0. 1. 2. 3. 4.]]\n"
          ],
          "name": "stdout"
        }
      ]
    },
    {
      "cell_type": "markdown",
      "metadata": {
        "id": "7i2juw7tDXH8",
        "colab_type": "text"
      },
      "source": [
        "38. Consider a generator function that generates 10 integers and use it to build an array."
      ]
    },
    {
      "cell_type": "code",
      "metadata": {
        "id": "X8uzKy0wJw7q",
        "colab_type": "code",
        "colab": {
          "base_uri": "https://localhost:8080/",
          "height": 34
        },
        "outputId": "858d7d72-0947-4410-c03a-3a52d5d2c970"
      },
      "source": [
        "def generate():\n",
        "    for x in range(10):\n",
        "        yield x\n",
        "x = np.fromiter(generate(),dtype=float,count=-1)\n",
        "print(x)"
      ],
      "execution_count": 64,
      "outputs": [
        {
          "output_type": "stream",
          "text": [
            "[0. 1. 2. 3. 4. 5. 6. 7. 8. 9.]\n"
          ],
          "name": "stdout"
        }
      ]
    },
    {
      "cell_type": "markdown",
      "metadata": {
        "id": "cdfyigTTDXWK",
        "colab_type": "text"
      },
      "source": [
        "39. Create a vector of size 10 with values ranging from 0 to 1, both excluded."
      ]
    },
    {
      "cell_type": "code",
      "metadata": {
        "id": "2C0qRW9yJ96y",
        "colab_type": "code",
        "colab": {
          "base_uri": "https://localhost:8080/",
          "height": 52
        },
        "outputId": "a3784165-b6f3-4c73-d1d9-ff8f2cde0827"
      },
      "source": [
        "x = np.linspace(0,1,11,endpoint=False)[1:]\n",
        "print(x)"
      ],
      "execution_count": 65,
      "outputs": [
        {
          "output_type": "stream",
          "text": [
            "[0.09090909 0.18181818 0.27272727 0.36363636 0.45454545 0.54545455\n",
            " 0.63636364 0.72727273 0.81818182 0.90909091]\n"
          ],
          "name": "stdout"
        }
      ]
    },
    {
      "cell_type": "markdown",
      "metadata": {
        "id": "cqKbkK9iDXZg",
        "colab_type": "text"
      },
      "source": [
        "40. Create a random vector of size 10 and sort it."
      ]
    },
    {
      "cell_type": "code",
      "metadata": {
        "id": "TNHg_97dKEQC",
        "colab_type": "code",
        "colab": {}
      },
      "source": [
        "x = np.random.random(10)\n",
        "x.sort()\n",
        "print(x)"
      ],
      "execution_count": 0,
      "outputs": []
    },
    {
      "cell_type": "markdown",
      "metadata": {
        "id": "mXAzzXZ6DXgY",
        "colab_type": "text"
      },
      "source": [
        "41. How to sum a small array faster than np.sum?."
      ]
    },
    {
      "cell_type": "code",
      "metadata": {
        "id": "6N9u9NuvKKMk",
        "colab_type": "code",
        "colab": {
          "base_uri": "https://localhost:8080/",
          "height": 34
        },
        "outputId": "85bbffa3-e031-4e63-9371-33199c46827d"
      },
      "source": [
        "x=np.arange(10)\n",
        "np.add.reduce(x)"
      ],
      "execution_count": 66,
      "outputs": [
        {
          "output_type": "execute_result",
          "data": {
            "text/plain": [
              "45"
            ]
          },
          "metadata": {
            "tags": []
          },
          "execution_count": 66
        }
      ]
    },
    {
      "cell_type": "markdown",
      "metadata": {
        "id": "NrV9kvmQDXjq",
        "colab_type": "text"
      },
      "source": [
        "42. Consider two random array A and B, check if they are equal."
      ]
    },
    {
      "cell_type": "code",
      "metadata": {
        "id": "G4UWY5P7KPKM",
        "colab_type": "code",
        "colab": {
          "base_uri": "https://localhost:8080/",
          "height": 52
        },
        "outputId": "697727de-3103-48a0-87ea-924f42414cf8"
      },
      "source": [
        "A = np.random.randint(0,2,5)\n",
        "B = np.random.randint(0,2,5)\n",
        "equal = np.allclose(A,B)\n",
        "print(equal)\n",
        "equal = np.array_equal(A,B)\n",
        "print(equal)"
      ],
      "execution_count": 68,
      "outputs": [
        {
          "output_type": "stream",
          "text": [
            "False\n",
            "False\n"
          ],
          "name": "stdout"
        }
      ]
    },
    {
      "cell_type": "markdown",
      "metadata": {
        "id": "Zr0sjwitDXmm",
        "colab_type": "text"
      },
      "source": [
        "43. Make an array immutable (read-only)."
      ]
    },
    {
      "cell_type": "code",
      "metadata": {
        "id": "9qemYfDuKY6j",
        "colab_type": "code",
        "colab": {}
      },
      "source": [
        "x = np.zeros(10)\n",
        "x.flags.writeable = False"
      ],
      "execution_count": 0,
      "outputs": []
    },
    {
      "cell_type": "markdown",
      "metadata": {
        "id": "5ZxAAywsDXti",
        "colab_type": "text"
      },
      "source": [
        "44. Consider a random 10x2 matrix representing cartesian coordinates, convert them to polar coordinates."
      ]
    },
    {
      "cell_type": "code",
      "metadata": {
        "id": "Ok57K-oIKur0",
        "colab_type": "code",
        "colab": {
          "base_uri": "https://localhost:8080/",
          "height": 86
        },
        "outputId": "9acaceaa-2187-442b-f53f-565dcf85b126"
      },
      "source": [
        "z = np.random.random((10,2))\n",
        "x,y = z[:,0], z[:,1]\n",
        "r = np.sqrt(x**2+y**2)\n",
        "t = np.arctan2(y,x)\n",
        "print(r)\n",
        "print(t)"
      ],
      "execution_count": 75,
      "outputs": [
        {
          "output_type": "stream",
          "text": [
            "[0.42645217 0.19680646 0.42133394 0.36267599 0.89756795 1.02795053\n",
            " 0.89662918 0.9705275  0.88509266 0.37801906]\n",
            "[0.0488522  0.46764661 0.47373292 0.97171099 1.38060464 0.39735547\n",
            " 0.09068007 1.13970647 1.23061848 0.3622604 ]\n"
          ],
          "name": "stdout"
        }
      ]
    },
    {
      "cell_type": "markdown",
      "metadata": {
        "id": "SSOtd7nPDXwN",
        "colab_type": "text"
      },
      "source": [
        "45. Create random vector of size 10 and replace the maximum value by 0."
      ]
    },
    {
      "cell_type": "code",
      "metadata": {
        "id": "ToMs-DG-LCVS",
        "colab_type": "code",
        "colab": {
          "base_uri": "https://localhost:8080/",
          "height": 52
        },
        "outputId": "f28090a5-003f-4518-f839-012d0135b2aa"
      },
      "source": [
        "x = np.random.random(10)\n",
        "x[x.argmax()] = 0\n",
        "print(x)"
      ],
      "execution_count": 76,
      "outputs": [
        {
          "output_type": "stream",
          "text": [
            "[0.6028588  0.51925526 0.88419502 0.         0.6890356  0.10237085\n",
            " 0.60649779 0.23543865 0.66018685 0.74023108]\n"
          ],
          "name": "stdout"
        }
      ]
    },
    {
      "cell_type": "markdown",
      "metadata": {
        "id": "DD9xRC3ODXzC",
        "colab_type": "text"
      },
      "source": [
        "46. Create a structured array with x and y coordinates covering the [0,1]x[0,1] area."
      ]
    },
    {
      "cell_type": "code",
      "metadata": {
        "id": "4oSCNxoOLGxS",
        "colab_type": "code",
        "colab": {
          "base_uri": "https://localhost:8080/",
          "height": 104
        },
        "outputId": "f76e80e0-8f0c-4e22-e60e-a46e18e24b6d"
      },
      "source": [
        "x = np.zeros((5,5), [('x',float),('y',float)])\n",
        "x['x'], x['y'] = np.meshgrid(np.linspace(0,1,5),np.linspace(0,1,5))\n",
        "print(x)"
      ],
      "execution_count": 78,
      "outputs": [
        {
          "output_type": "stream",
          "text": [
            "[[(0.  , 0.  ) (0.25, 0.  ) (0.5 , 0.  ) (0.75, 0.  ) (1.  , 0.  )]\n",
            " [(0.  , 0.25) (0.25, 0.25) (0.5 , 0.25) (0.75, 0.25) (1.  , 0.25)]\n",
            " [(0.  , 0.5 ) (0.25, 0.5 ) (0.5 , 0.5 ) (0.75, 0.5 ) (1.  , 0.5 )]\n",
            " [(0.  , 0.75) (0.25, 0.75) (0.5 , 0.75) (0.75, 0.75) (1.  , 0.75)]\n",
            " [(0.  , 1.  ) (0.25, 1.  ) (0.5 , 1.  ) (0.75, 1.  ) (1.  , 1.  )]]\n"
          ],
          "name": "stdout"
        }
      ]
    },
    {
      "cell_type": "markdown",
      "metadata": {
        "id": "3T4QL9ToDX1s",
        "colab_type": "text"
      },
      "source": [
        "47. Given two arrays, X and Y, construct the Cauchy matrix C (Cij =1/(xi - yj))."
      ]
    },
    {
      "cell_type": "code",
      "metadata": {
        "id": "MzPkKJNtLXgz",
        "colab_type": "code",
        "colab": {
          "base_uri": "https://localhost:8080/",
          "height": 34
        },
        "outputId": "1ee4cd90-99e1-4f32-9281-6b24a7ff98a6"
      },
      "source": [
        "x = np.arange(8)\n",
        "y = x + 0.5\n",
        "C = 1.0 / np.subtract.outer(x, y)\n",
        "print(np.linalg.det(C))"
      ],
      "execution_count": 79,
      "outputs": [
        {
          "output_type": "stream",
          "text": [
            "3638.163637117973\n"
          ],
          "name": "stdout"
        }
      ]
    },
    {
      "cell_type": "markdown",
      "metadata": {
        "id": "yqjCDXrVDX4w",
        "colab_type": "text"
      },
      "source": [
        "48. Print the minimum and maximum representable value for each numpy scalar type."
      ]
    },
    {
      "cell_type": "code",
      "metadata": {
        "id": "kTfAyVlwLmI8",
        "colab_type": "code",
        "colab": {
          "base_uri": "https://localhost:8080/",
          "height": 225
        },
        "outputId": "dcbaaff9-7fd3-46ed-a73c-b698fb820d65"
      },
      "source": [
        "for dtype in [np.int8, np.int32, np.int64]:\n",
        "   print(np.iinfo(dtype).min)\n",
        "   print(np.iinfo(dtype).max)\n",
        "for dtype in [np.float32, np.float64]:\n",
        "   print(np.finfo(dtype).min)\n",
        "   print(np.finfo(dtype).max)\n",
        "   print(np.finfo(dtype).eps)"
      ],
      "execution_count": 80,
      "outputs": [
        {
          "output_type": "stream",
          "text": [
            "-128\n",
            "127\n",
            "-2147483648\n",
            "2147483647\n",
            "-9223372036854775808\n",
            "9223372036854775807\n",
            "-3.4028235e+38\n",
            "3.4028235e+38\n",
            "1.1920929e-07\n",
            "-1.7976931348623157e+308\n",
            "1.7976931348623157e+308\n",
            "2.220446049250313e-16\n"
          ],
          "name": "stdout"
        }
      ]
    },
    {
      "cell_type": "markdown",
      "metadata": {
        "id": "fmNvl_yfDX70",
        "colab_type": "text"
      },
      "source": [
        "49. How to print all the values of an array?."
      ]
    },
    {
      "cell_type": "code",
      "metadata": {
        "id": "gfq-XyinLw7m",
        "colab_type": "code",
        "colab": {
          "base_uri": "https://localhost:8080/",
          "height": 86
        },
        "outputId": "1da49d1c-6ad4-4e05-c4d5-ce03121158f5"
      },
      "source": [
        "np.set_printoptions(threshold=np.inf)\n",
        "x = np.zeros((4, 4))\n",
        "print(x)"
      ],
      "execution_count": 85,
      "outputs": [
        {
          "output_type": "stream",
          "text": [
            "[[0. 0. 0. 0.]\n",
            " [0. 0. 0. 0.]\n",
            " [0. 0. 0. 0.]\n",
            " [0. 0. 0. 0.]]\n"
          ],
          "name": "stdout"
        }
      ]
    },
    {
      "cell_type": "markdown",
      "metadata": {
        "id": "7PqxsbWqEgV4",
        "colab_type": "text"
      },
      "source": [
        "50. How to find the closest value (to a given scalar) in a vector?."
      ]
    },
    {
      "cell_type": "code",
      "metadata": {
        "id": "5zfljtJWMSux",
        "colab_type": "code",
        "colab": {
          "base_uri": "https://localhost:8080/",
          "height": 34
        },
        "outputId": "77c78ed7-d161-48c5-dd2d-a5961c8f2532"
      },
      "source": [
        "x = np.arange(100)\n",
        "y = np.random.uniform(0,100)\n",
        "z = (np.abs(x-y)).argmin()\n",
        "print(x[z])"
      ],
      "execution_count": 87,
      "outputs": [
        {
          "output_type": "stream",
          "text": [
            "95\n"
          ],
          "name": "stdout"
        }
      ]
    },
    {
      "cell_type": "markdown",
      "metadata": {
        "id": "tqimqiHREgeZ",
        "colab_type": "text"
      },
      "source": [
        "51. Create a structured array representing a position (x,y) and a color (r,g,b)."
      ]
    },
    {
      "cell_type": "code",
      "metadata": {
        "id": "0PsjQDuSMcBp",
        "colab_type": "code",
        "colab": {
          "base_uri": "https://localhost:8080/",
          "height": 159
        },
        "outputId": "a5cf8150-2a9c-4dee-b712-4ce4cf732da5"
      },
      "source": [
        "x = np.zeros(10, [ ('position', [ ('x', float, 1),('y', float, 1)]),\n",
        "                   ('color',    [ ('r', float, 1),('g', float, 1),\n",
        "                   ('b', float, 1)])])\n",
        "print(x)"
      ],
      "execution_count": 88,
      "outputs": [
        {
          "output_type": "stream",
          "text": [
            "[((0., 0.), (0., 0., 0.)) ((0., 0.), (0., 0., 0.))\n",
            " ((0., 0.), (0., 0., 0.)) ((0., 0.), (0., 0., 0.))\n",
            " ((0., 0.), (0., 0., 0.)) ((0., 0.), (0., 0., 0.))\n",
            " ((0., 0.), (0., 0., 0.)) ((0., 0.), (0., 0., 0.))\n",
            " ((0., 0.), (0., 0., 0.)) ((0., 0.), (0., 0., 0.))]\n"
          ],
          "name": "stdout"
        },
        {
          "output_type": "stream",
          "text": [
            "/usr/local/lib/python3.6/dist-packages/ipykernel_launcher.py:3: FutureWarning: Passing (type, 1) or '1type' as a synonym of type is deprecated; in a future version of numpy, it will be understood as (type, (1,)) / '(1,)type'.\n",
            "  This is separate from the ipykernel package so we can avoid doing imports until\n"
          ],
          "name": "stderr"
        }
      ]
    },
    {
      "cell_type": "markdown",
      "metadata": {
        "id": "CMg2kVUkEgh0",
        "colab_type": "text"
      },
      "source": [
        "52. Consider a random vector with shape (100,2) representing coordinates, find point by point\n",
        "distances."
      ]
    },
    {
      "cell_type": "code",
      "metadata": {
        "id": "hLcv2F94Mmuq",
        "colab_type": "code",
        "colab": {
          "base_uri": "https://localhost:8080/",
          "height": 712
        },
        "outputId": "41f45d50-342c-431a-e47a-a301a11e32e7"
      },
      "source": [
        "x = np.random.random((10,2))\n",
        "a,b = np.atleast_2d(x[:,0], x[:,1])\n",
        "c = np.sqrt( (a-a.T)**2 + (b-b.T)**2)\n",
        "print(c)\n",
        "import scipy.spatial\n",
        "x = np.random.random((10,2))\n",
        "c = scipy.spatial.distance.cdist(x,x)\n",
        "print(c)"
      ],
      "execution_count": 138,
      "outputs": [
        {
          "output_type": "stream",
          "text": [
            "[[0.         0.56756096 0.58923105 0.09994089 0.40572292 0.31704116\n",
            "  0.73622451 0.79388905 0.52283401 0.27883913]\n",
            " [0.56756096 0.         0.07538426 0.46858642 0.54065469 0.26223301\n",
            "  0.32525109 0.31062702 0.46147842 0.39891568]\n",
            " [0.58923105 0.07538426 0.         0.49305635 0.6045951  0.302748\n",
            "  0.25022674 0.3637136  0.4096562  0.45115566]\n",
            " [0.09994089 0.46858642 0.49305635 0.         0.36244961 0.21733365\n",
            "  0.65370751 0.69604414 0.47601946 0.20279255]\n",
            " [0.40572292 0.54065469 0.6045951  0.36244961 0.         0.3404431\n",
            "  0.83982531 0.59482425 0.78522255 0.19117146]\n",
            " [0.31704116 0.26223301 0.302748   0.21733365 0.3404431  0.\n",
            "  0.51153784 0.48165071 0.45812131 0.1585802 ]\n",
            " [0.73622451 0.32525109 0.25022674 0.65370751 0.83982531 0.51153784\n",
            "  0.         0.56434966 0.34322994 0.66961636]\n",
            " [0.79388905 0.31062702 0.3637136  0.69604414 0.59482425 0.48165071\n",
            "  0.56434966 0.         0.77075548 0.54610431]\n",
            " [0.52283401 0.46147842 0.4096562  0.47601946 0.78522255 0.45812131\n",
            "  0.34322994 0.77075548 0.         0.59405186]\n",
            " [0.27883913 0.39891568 0.45115566 0.20279255 0.19117146 0.1585802\n",
            "  0.66961636 0.54610431 0.59405186 0.        ]]\n",
            "[[0.         0.22621142 0.3365521  0.69214086 0.40645044 0.61960969\n",
            "  0.35784017 0.14283045 0.30919754 0.57817499]\n",
            " [0.22621142 0.         0.56269268 0.5919511  0.42762934 0.5703187\n",
            "  0.5716094  0.31482334 0.51961346 0.76678828]\n",
            " [0.3365521  0.56269268 0.         0.93384497 0.56532225 0.82031005\n",
            "  0.13692954 0.30907567 0.14983228 0.37209695]\n",
            " [0.69214086 0.5919511  0.93384497 0.         1.01896766 0.15476108\n",
            "  1.01655495 0.63358057 0.9782845  1.25853556]\n",
            " [0.40645044 0.42762934 0.56532225 1.01896766 0.         0.98428742\n",
            "  0.47297746 0.54579698 0.42914257 0.52275035]\n",
            " [0.61960969 0.5703187  0.82031005 0.15476108 0.98428742 0.\n",
            "  0.91561949 0.53530753 0.88239665 1.16309059]\n",
            " [0.35784017 0.5716094  0.13692954 1.01655495 0.47297746 0.91561949\n",
            "  0.         0.38321066 0.05370532 0.25006934]\n",
            " [0.14283045 0.31482334 0.30907567 0.63358057 0.54579698 0.53530753\n",
            "  0.38321066 0.         0.34736835 0.6283023 ]\n",
            " [0.30919754 0.51961346 0.14983228 0.9782845  0.42914257 0.88239665\n",
            "  0.05370532 0.34736835 0.         0.28096172]\n",
            " [0.57817499 0.76678828 0.37209695 1.25853556 0.52275035 1.16309059\n",
            "  0.25006934 0.6283023  0.28096172 0.        ]]\n"
          ],
          "name": "stdout"
        }
      ]
    },
    {
      "cell_type": "markdown",
      "metadata": {
        "id": "CmY8rolVEglK",
        "colab_type": "text"
      },
      "source": [
        "53. How to convert a float (32 bits) array into an integer (32 bits) in place?."
      ]
    },
    {
      "cell_type": "code",
      "metadata": {
        "id": "U46te0ekNOAf",
        "colab_type": "code",
        "colab": {
          "base_uri": "https://localhost:8080/",
          "height": 34
        },
        "outputId": "b86144d1-2a93-4beb-ef3c-e209d0db36c9"
      },
      "source": [
        "x = (np.random.rand(10)*100).astype(np.float32)\n",
        "y = x.view(np.int32)\n",
        "y[:] = x\n",
        "print(y)"
      ],
      "execution_count": 139,
      "outputs": [
        {
          "output_type": "stream",
          "text": [
            "[11  8 27 73 83 15 83 64  0 40]\n"
          ],
          "name": "stdout"
        }
      ]
    },
    {
      "cell_type": "markdown",
      "metadata": {
        "id": "bBf38MaZEgoh",
        "colab_type": "text"
      },
      "source": [
        "54. How to read the following file?."
      ]
    },
    {
      "cell_type": "code",
      "metadata": {
        "id": "UYr71VDyNwpl",
        "colab_type": "code",
        "colab": {
          "base_uri": "https://localhost:8080/",
          "height": 69
        },
        "outputId": "4c720ddc-f8db-43af-df5e-81436da6b81c"
      },
      "source": [
        "from io import StringIO\n",
        "s = StringIO('''1, 2, 3, 4, 5\n",
        "                6,  ,  , 7, 8\n",
        "                 ,  , 9,10,11\n",
        "''')\n",
        "x = np.genfromtxt(s, delimiter=\",\", dtype=np.int)\n",
        "print(x)"
      ],
      "execution_count": 140,
      "outputs": [
        {
          "output_type": "stream",
          "text": [
            "[[ 1  2  3  4  5]\n",
            " [ 6 -1 -1  7  8]\n",
            " [-1 -1  9 10 11]]\n"
          ],
          "name": "stdout"
        }
      ]
    },
    {
      "cell_type": "markdown",
      "metadata": {
        "id": "7dH0Ax04EgsJ",
        "colab_type": "text"
      },
      "source": [
        "55. What is the equivalent of enumerate for numpy arrays?."
      ]
    },
    {
      "cell_type": "code",
      "metadata": {
        "id": "lkG8ywpVOtY1",
        "colab_type": "code",
        "colab": {
          "base_uri": "https://localhost:8080/",
          "height": 330
        },
        "outputId": "164e4efb-4da8-4530-e72d-2b1296afa64e"
      },
      "source": [
        "x = np.arange(9).reshape(3,3)\n",
        "for i, j in np.ndenumerate(x):\n",
        "    print(i, j)\n",
        "for i in np.ndindex(x.shape):\n",
        "    print(i, x[i])"
      ],
      "execution_count": 141,
      "outputs": [
        {
          "output_type": "stream",
          "text": [
            "(0, 0) 0\n",
            "(0, 1) 1\n",
            "(0, 2) 2\n",
            "(1, 0) 3\n",
            "(1, 1) 4\n",
            "(1, 2) 5\n",
            "(2, 0) 6\n",
            "(2, 1) 7\n",
            "(2, 2) 8\n",
            "(0, 0) 0\n",
            "(0, 1) 1\n",
            "(0, 2) 2\n",
            "(1, 0) 3\n",
            "(1, 1) 4\n",
            "(1, 2) 5\n",
            "(2, 0) 6\n",
            "(2, 1) 7\n",
            "(2, 2) 8\n"
          ],
          "name": "stdout"
        }
      ]
    },
    {
      "cell_type": "markdown",
      "metadata": {
        "id": "-nM5bkyJEgvO",
        "colab_type": "text"
      },
      "source": [
        "56. Generate a generic 2D Gaussian-like array."
      ]
    },
    {
      "cell_type": "code",
      "metadata": {
        "id": "5HJHhaksPgwR",
        "colab_type": "code",
        "colab": {
          "base_uri": "https://localhost:8080/",
          "height": 364
        },
        "outputId": "da76f1c6-8da8-427b-c859-6446d45ccdc4"
      },
      "source": [
        "x, y = np.meshgrid(np.linspace(-1,1,10), np.linspace(-1,1,10))\n",
        "a = np.sqrt(x*x+y*y)\n",
        "sigma, mu = 1.0, 0.0\n",
        "G = np.exp(-( (a-mu)**2 / ( 2.0 * sigma**2 ) ) )\n",
        "print(G)"
      ],
      "execution_count": 142,
      "outputs": [
        {
          "output_type": "stream",
          "text": [
            "[[0.36787944 0.44822088 0.51979489 0.57375342 0.60279818 0.60279818\n",
            "  0.57375342 0.51979489 0.44822088 0.36787944]\n",
            " [0.44822088 0.54610814 0.63331324 0.69905581 0.73444367 0.73444367\n",
            "  0.69905581 0.63331324 0.54610814 0.44822088]\n",
            " [0.51979489 0.63331324 0.73444367 0.81068432 0.85172308 0.85172308\n",
            "  0.81068432 0.73444367 0.63331324 0.51979489]\n",
            " [0.57375342 0.69905581 0.81068432 0.89483932 0.9401382  0.9401382\n",
            "  0.89483932 0.81068432 0.69905581 0.57375342]\n",
            " [0.60279818 0.73444367 0.85172308 0.9401382  0.98773022 0.98773022\n",
            "  0.9401382  0.85172308 0.73444367 0.60279818]\n",
            " [0.60279818 0.73444367 0.85172308 0.9401382  0.98773022 0.98773022\n",
            "  0.9401382  0.85172308 0.73444367 0.60279818]\n",
            " [0.57375342 0.69905581 0.81068432 0.89483932 0.9401382  0.9401382\n",
            "  0.89483932 0.81068432 0.69905581 0.57375342]\n",
            " [0.51979489 0.63331324 0.73444367 0.81068432 0.85172308 0.85172308\n",
            "  0.81068432 0.73444367 0.63331324 0.51979489]\n",
            " [0.44822088 0.54610814 0.63331324 0.69905581 0.73444367 0.73444367\n",
            "  0.69905581 0.63331324 0.54610814 0.44822088]\n",
            " [0.36787944 0.44822088 0.51979489 0.57375342 0.60279818 0.60279818\n",
            "  0.57375342 0.51979489 0.44822088 0.36787944]]\n"
          ],
          "name": "stdout"
        }
      ]
    },
    {
      "cell_type": "markdown",
      "metadata": {
        "id": "HCXuj5MvEg2S",
        "colab_type": "text"
      },
      "source": [
        "57. How to randomly place p elements in a 2D array?."
      ]
    },
    {
      "cell_type": "code",
      "metadata": {
        "id": "ZZPRF7zIRnSQ",
        "colab_type": "code",
        "colab": {
          "base_uri": "https://localhost:8080/",
          "height": 191
        },
        "outputId": "5369e1df-3bb0-4f32-cfa9-8b6d5898d43d"
      },
      "source": [
        "n = 10\n",
        "b = 3\n",
        "x = np.zeros((n,n))\n",
        "np.put(x, np.random.choice(range(n*n), b, replace=False),1)\n",
        "print(x)"
      ],
      "execution_count": 114,
      "outputs": [
        {
          "output_type": "stream",
          "text": [
            "[[0. 0. 0. 0. 0. 0. 0. 0. 0. 0.]\n",
            " [0. 0. 0. 0. 0. 0. 0. 0. 0. 0.]\n",
            " [0. 0. 0. 0. 0. 0. 0. 0. 0. 0.]\n",
            " [0. 0. 0. 0. 0. 0. 0. 0. 0. 0.]\n",
            " [0. 0. 0. 0. 0. 0. 0. 0. 0. 0.]\n",
            " [0. 0. 0. 0. 0. 0. 0. 0. 0. 1.]\n",
            " [0. 0. 0. 0. 0. 0. 0. 0. 1. 0.]\n",
            " [0. 0. 0. 0. 0. 0. 0. 0. 0. 0.]\n",
            " [0. 0. 0. 0. 0. 1. 0. 0. 0. 0.]\n",
            " [0. 0. 0. 0. 0. 0. 0. 0. 0. 0.]]\n"
          ],
          "name": "stdout"
        }
      ]
    },
    {
      "cell_type": "markdown",
      "metadata": {
        "id": "tQ31t6ZjEg5J",
        "colab_type": "text"
      },
      "source": [
        "58. Subtract the mean of each row of a matrix."
      ]
    },
    {
      "cell_type": "code",
      "metadata": {
        "id": "c9sZexA5StLV",
        "colab_type": "code",
        "colab": {
          "base_uri": "https://localhost:8080/",
          "height": 191
        },
        "outputId": "7b014d8b-78c7-4464-a7e5-4a09fa4cdd60"
      },
      "source": [
        "x = np.random.rand(5, 10)\n",
        "y = x - x.mean(axis=1, keepdims=True)\n",
        "y = x - x.mean(axis=1).reshape(-1, 1)\n",
        "print(y)"
      ],
      "execution_count": 115,
      "outputs": [
        {
          "output_type": "stream",
          "text": [
            "[[-0.02643165 -0.39317509 -0.35971231  0.57613894  0.54455781  0.12606\n",
            "   0.12385724 -0.17935632 -0.2765568  -0.13538182]\n",
            " [ 0.14893599 -0.23193843  0.01038346  0.25468741  0.18528845 -0.49576323\n",
            "  -0.15309847  0.42638125  0.00325393 -0.14813035]\n",
            " [-0.12364215 -0.43062443  0.54318395  0.1957638  -0.06263764 -0.18129665\n",
            "   0.46977654 -0.24979977  0.13881962 -0.29954329]\n",
            " [ 0.22869198 -0.26231646 -0.02945235 -0.09739958 -0.07059637 -0.29119473\n",
            "   0.05879504  0.1472055   0.10797288  0.2082941 ]\n",
            " [-0.26438103  0.13724655  0.12070621 -0.41209831  0.52342965  0.13496162\n",
            "   0.34529857  0.06175227 -0.41035577 -0.23655977]]\n"
          ],
          "name": "stdout"
        }
      ]
    },
    {
      "cell_type": "markdown",
      "metadata": {
        "id": "3qw9V9ZkEg8O",
        "colab_type": "text"
      },
      "source": [
        "59. How to sort an array by the nth column?."
      ]
    },
    {
      "cell_type": "code",
      "metadata": {
        "id": "JP-dzkmjVMRC",
        "colab_type": "code",
        "colab": {
          "base_uri": "https://localhost:8080/",
          "height": 121
        },
        "outputId": "91048f17-ad29-4db3-dab9-7883256ea234"
      },
      "source": [
        "x = np.random.randint(0,10,(3,3))\n",
        "print(x)\n",
        "print(x[x[:,1].argsort()])"
      ],
      "execution_count": 116,
      "outputs": [
        {
          "output_type": "stream",
          "text": [
            "[[4 1 2]\n",
            " [0 5 3]\n",
            " [8 9 1]]\n",
            "[[4 1 2]\n",
            " [0 5 3]\n",
            " [8 9 1]]\n"
          ],
          "name": "stdout"
        }
      ]
    },
    {
      "cell_type": "markdown",
      "metadata": {
        "id": "3jU6y3RbEg_a",
        "colab_type": "text"
      },
      "source": [
        "60. How to tell if a given 2D array has null columns?."
      ]
    },
    {
      "cell_type": "code",
      "metadata": {
        "id": "dApY4pPMVRvN",
        "colab_type": "code",
        "colab": {
          "base_uri": "https://localhost:8080/",
          "height": 34
        },
        "outputId": "16d0d6e1-a19e-4df4-db8b-c95daadef824"
      },
      "source": [
        "x = np.random.randint(0,3,(3,10))\n",
        "print((~x.any(axis=0)).any())"
      ],
      "execution_count": 117,
      "outputs": [
        {
          "output_type": "stream",
          "text": [
            "False\n"
          ],
          "name": "stdout"
        }
      ]
    },
    {
      "cell_type": "markdown",
      "metadata": {
        "id": "oZj5BeScEhCi",
        "colab_type": "text"
      },
      "source": [
        "61. Find the nearest value from a given value in an array."
      ]
    },
    {
      "cell_type": "code",
      "metadata": {
        "id": "-W1e8eCzVhDE",
        "colab_type": "code",
        "colab": {
          "base_uri": "https://localhost:8080/",
          "height": 34
        },
        "outputId": "a32fccc9-a01e-4ae4-95c4-4e132cb434ca"
      },
      "source": [
        "x = np.random.uniform(0,1,10)\n",
        "x1 = 0.5\n",
        "x2 = x.flat[np.abs(x - x1).argmin()]\n",
        "print(x2)"
      ],
      "execution_count": 120,
      "outputs": [
        {
          "output_type": "stream",
          "text": [
            "0.5167841573378877\n"
          ],
          "name": "stdout"
        }
      ]
    },
    {
      "cell_type": "markdown",
      "metadata": {
        "id": "MGyXFtqREhJn",
        "colab_type": "text"
      },
      "source": [
        "62. Considering two arrays with shape (1,3) and (3,1), how to compute their sum using an iterator?."
      ]
    },
    {
      "cell_type": "code",
      "metadata": {
        "id": "TJTnaRpWWCak",
        "colab_type": "code",
        "colab": {
          "base_uri": "https://localhost:8080/",
          "height": 69
        },
        "outputId": "9fc8b4e6-05cb-4ddb-a6da-2349cef04a63"
      },
      "source": [
        "a = np.arange(3).reshape(3,1)\n",
        "b = np.arange(3).reshape(1,3)\n",
        "c = np.nditer([a,b,None])\n",
        "for x,y,z in c: z[...] = x + y\n",
        "print(c.operands[2])"
      ],
      "execution_count": 122,
      "outputs": [
        {
          "output_type": "stream",
          "text": [
            "[[0 1 2]\n",
            " [1 2 3]\n",
            " [2 3 4]]\n"
          ],
          "name": "stdout"
        }
      ]
    },
    {
      "cell_type": "markdown",
      "metadata": {
        "id": "CkBN380CEhMs",
        "colab_type": "text"
      },
      "source": [
        "63. Create an array class that has a name attribute."
      ]
    },
    {
      "cell_type": "code",
      "metadata": {
        "id": "H9qhIua6WfAP",
        "colab_type": "code",
        "colab": {
          "base_uri": "https://localhost:8080/",
          "height": 34
        },
        "outputId": "fe88a3e5-57fe-4d7e-d581-3bd48ec15b23"
      },
      "source": [
        "class NamedArray(np.ndarray):\n",
        "    def __new__(cls, array, name=\"no name\"):\n",
        "        obj = np.asarray(array).view(cls)\n",
        "        obj.name = name\n",
        "        return obj\n",
        "    def __array_finalize__(self, obj):\n",
        "        if obj is None: return\n",
        "        self.info = getattr(obj, 'name', \"no name\")\n",
        "x = NamedArray(np.arange(10), \"range_10\")\n",
        "print (x.name)"
      ],
      "execution_count": 143,
      "outputs": [
        {
          "output_type": "stream",
          "text": [
            "range_10\n"
          ],
          "name": "stdout"
        }
      ]
    },
    {
      "cell_type": "markdown",
      "metadata": {
        "id": "HUbJQynTEhPx",
        "colab_type": "text"
      },
      "source": [
        "64. Consider a given vector, how to add 1 to each element indexed by a second vector (be careful with repeated indices)?."
      ]
    },
    {
      "cell_type": "code",
      "metadata": {
        "id": "9MWhVrBIXCxZ",
        "colab_type": "code",
        "colab": {
          "base_uri": "https://localhost:8080/",
          "height": 52
        },
        "outputId": "91154b21-79f8-486d-d172-aeba7805b6eb"
      },
      "source": [
        "x = np.ones(10)\n",
        "y = np.random.randint(0,len(x),20)\n",
        "x+= np.bincount(y, minlength=len(x))\n",
        "print(x)\n",
        "np.add.at(x, y, 1)\n",
        "print(x)"
      ],
      "execution_count": 144,
      "outputs": [
        {
          "output_type": "stream",
          "text": [
            "[1. 4. 1. 4. 3. 2. 3. 4. 4. 4.]\n",
            "[1. 7. 1. 7. 5. 3. 5. 7. 7. 7.]\n"
          ],
          "name": "stdout"
        }
      ]
    },
    {
      "cell_type": "markdown",
      "metadata": {
        "id": "LqKoNsPSEhS-",
        "colab_type": "text"
      },
      "source": [
        "65. How to accumulate elements of a vector (X) to an array (F) based on an index list (I)?."
      ]
    },
    {
      "cell_type": "code",
      "metadata": {
        "id": "9edgGRKtXxFw",
        "colab_type": "code",
        "colab": {
          "base_uri": "https://localhost:8080/",
          "height": 34
        },
        "outputId": "f7a5b030-c396-4286-8c01-a91e9190430d"
      },
      "source": [
        "X = [1,2,3,4,5,6]\n",
        "I = [1,3,9,3,4,1]\n",
        "F = np.bincount(I,X)\n",
        "print(F)"
      ],
      "execution_count": 145,
      "outputs": [
        {
          "output_type": "stream",
          "text": [
            "[0. 7. 0. 6. 5. 0. 0. 0. 0. 3.]\n"
          ],
          "name": "stdout"
        }
      ]
    },
    {
      "cell_type": "markdown",
      "metadata": {
        "id": "MTAZ-8HSEhVw",
        "colab_type": "text"
      },
      "source": [
        "66. Considering a (w,h,3) image of (dtype=ubyte), compute the number of unique colors."
      ]
    },
    {
      "cell_type": "code",
      "metadata": {
        "id": "Kh9b9PlCYCnr",
        "colab_type": "code",
        "colab": {
          "base_uri": "https://localhost:8080/",
          "height": 34
        },
        "outputId": "16d8f66b-9efa-4585-d3b4-3af2860688d8"
      },
      "source": [
        "w,h = 16,16\n",
        "I = np.random.randint(0,2,(h,w,3)).astype(np.ubyte)\n",
        "F = I[...,0]*256*256 + I[...,1]*256 +I[...,2]\n",
        "n = len(np.unique(F))\n",
        "print(np.unique(I))"
      ],
      "execution_count": 127,
      "outputs": [
        {
          "output_type": "stream",
          "text": [
            "[0 1]\n"
          ],
          "name": "stdout"
        }
      ]
    },
    {
      "cell_type": "markdown",
      "metadata": {
        "id": "T3qXVVJpEhcz",
        "colab_type": "text"
      },
      "source": [
        "67. Considering a four dimensions array, how to get sum over the last two axis at once?."
      ]
    },
    {
      "cell_type": "code",
      "metadata": {
        "id": "v0AMrb10YUAd",
        "colab_type": "code",
        "colab": {
          "base_uri": "https://localhost:8080/",
          "height": 69
        },
        "outputId": "ef158e6a-1fca-4222-c1d3-53e91fbbdf9d"
      },
      "source": [
        "A = np.random.randint(0,10,(3,4,3,4))\n",
        "sum = A.sum(axis=(-2,-1))\n",
        "print(sum)"
      ],
      "execution_count": 129,
      "outputs": [
        {
          "output_type": "stream",
          "text": [
            "[[35 48 58 42]\n",
            " [57 40 79 42]\n",
            " [55 41 69 62]]\n"
          ],
          "name": "stdout"
        }
      ]
    },
    {
      "cell_type": "markdown",
      "metadata": {
        "id": "RPeYNI0REhfe",
        "colab_type": "text"
      },
      "source": [
        "68. Considering a one-dimensional vector D, how to compute means of subsets of D using a vector S of same size describing subset indices?."
      ]
    },
    {
      "cell_type": "code",
      "metadata": {
        "id": "ZlJN_wowYdMx",
        "colab_type": "code",
        "colab": {
          "base_uri": "https://localhost:8080/",
          "height": 208
        },
        "outputId": "0ccbafab-c20c-4879-f065-f0bd20d3e318"
      },
      "source": [
        "D = np.random.uniform(0,1,100)\n",
        "S = np.random.randint(0,10,100)\n",
        "D_means = D_sums / D_counts\n",
        "import pandas as pd\n",
        "print(pd.Series(D).groupby(S).mean())"
      ],
      "execution_count": 146,
      "outputs": [
        {
          "output_type": "stream",
          "text": [
            "0    0.512354\n",
            "1    0.325508\n",
            "2    0.572039\n",
            "3    0.522811\n",
            "4    0.457726\n",
            "5    0.486886\n",
            "6    0.625627\n",
            "7    0.546124\n",
            "8    0.502621\n",
            "9    0.499454\n",
            "dtype: float64\n"
          ],
          "name": "stdout"
        }
      ]
    },
    {
      "cell_type": "markdown",
      "metadata": {
        "id": "9E_eeyIgEhrE",
        "colab_type": "text"
      },
      "source": [
        "69. How to get the diagonal of a dot product?."
      ]
    },
    {
      "cell_type": "code",
      "metadata": {
        "id": "z7E6FLdfY8LY",
        "colab_type": "code",
        "colab": {
          "base_uri": "https://localhost:8080/",
          "height": 34
        },
        "outputId": "373246db-1219-4785-de61-060048d639b7"
      },
      "source": [
        "A = np.random.uniform(0,1,(5,5))\n",
        "B = np.random.uniform(0,1,(5,5))\n",
        "np.diag(np.dot(A, B))\n",
        "np.sum(A * B.T, axis=1)\n",
        "np.einsum(\"ij,ji->i\", A, B)"
      ],
      "execution_count": 147,
      "outputs": [
        {
          "output_type": "execute_result",
          "data": {
            "text/plain": [
              "array([1.30139978, 0.90810862, 1.04767494, 0.83315991, 1.51263416])"
            ]
          },
          "metadata": {
            "tags": []
          },
          "execution_count": 147
        }
      ]
    },
    {
      "cell_type": "markdown",
      "metadata": {
        "id": "G_toOs0hEhvW",
        "colab_type": "text"
      },
      "source": [
        "70. Consider the vector [1, 2, 3, 4, 5], how to build a new vector with 3 consecutive zeros interleaved between each value?."
      ]
    },
    {
      "cell_type": "code",
      "metadata": {
        "id": "_9Cdy2ToZTOd",
        "colab_type": "code",
        "colab": {
          "base_uri": "https://localhost:8080/",
          "height": 34
        },
        "outputId": "0a981dd6-cc71-4a0b-f721-4f3da3a37fc2"
      },
      "source": [
        "Z = np.array([1,2,3,4,5])\n",
        "nz = 3\n",
        "Z0 = np.zeros(len(Z) + (len(Z)-1)*(nz))\n",
        "Z0[::nz+1] = Z\n",
        "print(Z0)"
      ],
      "execution_count": 148,
      "outputs": [
        {
          "output_type": "stream",
          "text": [
            "[1. 0. 0. 0. 2. 0. 0. 0. 3. 0. 0. 0. 4. 0. 0. 0. 5.]\n"
          ],
          "name": "stdout"
        }
      ]
    },
    {
      "cell_type": "markdown",
      "metadata": {
        "id": "-qvEKqFDEh8b",
        "colab_type": "text"
      },
      "source": [
        "71. Consider an array of dimension (5,5,3), how to mulitply it by an array with dimensions (5,5)?."
      ]
    },
    {
      "cell_type": "code",
      "metadata": {
        "id": "OKuylT_wZWxL",
        "colab_type": "code",
        "colab": {
          "base_uri": "https://localhost:8080/",
          "height": 521
        },
        "outputId": "964a74b7-f01b-47f4-f241-e6b74eb37f77"
      },
      "source": [
        "A = np.ones((5,5,3))\n",
        "B = 2*np.ones((5,5))\n",
        "print(A * B[:,:,None])"
      ],
      "execution_count": 149,
      "outputs": [
        {
          "output_type": "stream",
          "text": [
            "[[[2. 2. 2.]\n",
            "  [2. 2. 2.]\n",
            "  [2. 2. 2.]\n",
            "  [2. 2. 2.]\n",
            "  [2. 2. 2.]]\n",
            "\n",
            " [[2. 2. 2.]\n",
            "  [2. 2. 2.]\n",
            "  [2. 2. 2.]\n",
            "  [2. 2. 2.]\n",
            "  [2. 2. 2.]]\n",
            "\n",
            " [[2. 2. 2.]\n",
            "  [2. 2. 2.]\n",
            "  [2. 2. 2.]\n",
            "  [2. 2. 2.]\n",
            "  [2. 2. 2.]]\n",
            "\n",
            " [[2. 2. 2.]\n",
            "  [2. 2. 2.]\n",
            "  [2. 2. 2.]\n",
            "  [2. 2. 2.]\n",
            "  [2. 2. 2.]]\n",
            "\n",
            " [[2. 2. 2.]\n",
            "  [2. 2. 2.]\n",
            "  [2. 2. 2.]\n",
            "  [2. 2. 2.]\n",
            "  [2. 2. 2.]]]\n"
          ],
          "name": "stdout"
        }
      ]
    },
    {
      "cell_type": "markdown",
      "metadata": {
        "id": "oiQpAfQzEh_f",
        "colab_type": "text"
      },
      "source": [
        "72. How to swap two rows of an array?."
      ]
    },
    {
      "cell_type": "code",
      "metadata": {
        "id": "EcVYho0Gdm7s",
        "colab_type": "code",
        "colab": {
          "base_uri": "https://localhost:8080/",
          "height": 104
        },
        "outputId": "82ea2ee8-9b37-493a-d84f-e3b95e2e0c67"
      },
      "source": [
        "A = np.arange(25).reshape(5,5)\n",
        "A[[0,1]] = A[[1,0]]\n",
        "print(A)"
      ],
      "execution_count": 150,
      "outputs": [
        {
          "output_type": "stream",
          "text": [
            "[[ 5  6  7  8  9]\n",
            " [ 0  1  2  3  4]\n",
            " [10 11 12 13 14]\n",
            " [15 16 17 18 19]\n",
            " [20 21 22 23 24]]\n"
          ],
          "name": "stdout"
        }
      ]
    },
    {
      "cell_type": "markdown",
      "metadata": {
        "id": "JBABGStuEiC5",
        "colab_type": "text"
      },
      "source": [
        "73. Consider a set of 10 triplets describing 10 triangles (with shared vertices), find the set of unique line segments composing all the triangles."
      ]
    },
    {
      "cell_type": "code",
      "metadata": {
        "id": "y1HSE6GFdzN7",
        "colab_type": "code",
        "colab": {
          "base_uri": "https://localhost:8080/",
          "height": 86
        },
        "outputId": "c9f8da3c-e91e-43d1-9114-e21d494e02ca"
      },
      "source": [
        "faces = np.random.randint(0,100,(10,3))\n",
        "F = np.roll(faces.repeat(2,axis=1),-1,axis=1)\n",
        "F = F.reshape(len(F)*3,2)\n",
        "F = np.sort(F,axis=1)\n",
        "G = F.view( dtype=[('p0',F.dtype),('p1',F.dtype)] )\n",
        "G = np.unique(G)\n",
        "print(G)"
      ],
      "execution_count": 151,
      "outputs": [
        {
          "output_type": "stream",
          "text": [
            "[( 2, 41) ( 2, 72) ( 6, 36) ( 6, 91) ( 9, 13) ( 9, 97) (12, 44) (12, 74)\n",
            " (12, 75) (12, 81) (13, 25) (13, 36) (13, 40) (13, 66) (13, 97) (23, 24)\n",
            " (23, 25) (24, 25) (25, 36) (29, 57) (29, 98) (36, 91) (40, 66) (41, 72)\n",
            " (44, 74) (51, 71) (51, 80) (57, 98) (71, 80) (75, 81)]\n"
          ],
          "name": "stdout"
        }
      ]
    },
    {
      "cell_type": "markdown",
      "metadata": {
        "id": "7cfYhC86EiGA",
        "colab_type": "text"
      },
      "source": [
        "74. Given an array C that is a bincount, how to produce an array A such that np.bincount(A) == C?."
      ]
    },
    {
      "cell_type": "code",
      "metadata": {
        "id": "KFwHmJJbh3Wi",
        "colab_type": "code",
        "colab": {
          "base_uri": "https://localhost:8080/",
          "height": 34
        },
        "outputId": "e5502b50-205f-464e-c464-4b227f88f568"
      },
      "source": [
        "C = np.bincount([1,1,2,3,4,4,6])\n",
        "A = np.repeat(np.arange(len(C)), C)\n",
        "print(A)"
      ],
      "execution_count": 152,
      "outputs": [
        {
          "output_type": "stream",
          "text": [
            "[1 1 2 3 4 4 6]\n"
          ],
          "name": "stdout"
        }
      ]
    },
    {
      "cell_type": "markdown",
      "metadata": {
        "id": "1bLoY7luEiJY",
        "colab_type": "text"
      },
      "source": [
        "75. How to compute averages using a sliding window over an array?."
      ]
    },
    {
      "cell_type": "code",
      "metadata": {
        "id": "ZL3vONOmh9Me",
        "colab_type": "code",
        "colab": {
          "base_uri": "https://localhost:8080/",
          "height": 34
        },
        "outputId": "45c2ca15-a232-4d99-f1e1-7b0cf026c290"
      },
      "source": [
        "def moving_average(a, n=3) :\n",
        "    ret = np.cumsum(a, dtype=float)\n",
        "    ret[n:] = ret[n:] - ret[:-n]\n",
        "    return ret[n - 1:] / n\n",
        "Z = np.arange(20)\n",
        "print(moving_average(Z, n=3))"
      ],
      "execution_count": 153,
      "outputs": [
        {
          "output_type": "stream",
          "text": [
            "[ 1.  2.  3.  4.  5.  6.  7.  8.  9. 10. 11. 12. 13. 14. 15. 16. 17. 18.]\n"
          ],
          "name": "stdout"
        }
      ]
    },
    {
      "cell_type": "markdown",
      "metadata": {
        "id": "5YZ1NgwXEiMm",
        "colab_type": "text"
      },
      "source": [
        "76. Consider a one-dimensional array Z, build a two-dimensional array whose first row is (Z[0],Z[1],Z[2]) and each subsequent row is shifted by 1 (last row should be (Z[-3],Z[-2],Z[-1])."
      ]
    },
    {
      "cell_type": "code",
      "metadata": {
        "id": "zQhsiDvWiAwX",
        "colab_type": "code",
        "colab": {
          "base_uri": "https://localhost:8080/",
          "height": 156
        },
        "outputId": "91e3efec-a0b6-4edb-9642-a65bcce9f161"
      },
      "source": [
        "from numpy.lib import stride_tricks\n",
        "def rolling(a, window):\n",
        "    shape = (a.size - window + 1, window)\n",
        "    strides = (a.itemsize, a.itemsize)\n",
        "    return stride_tricks.as_strided(a, shape=shape, strides=strides)\n",
        "Z = rolling(np.arange(10), 3)\n",
        "print(Z)"
      ],
      "execution_count": 154,
      "outputs": [
        {
          "output_type": "stream",
          "text": [
            "[[0 1 2]\n",
            " [1 2 3]\n",
            " [2 3 4]\n",
            " [3 4 5]\n",
            " [4 5 6]\n",
            " [5 6 7]\n",
            " [6 7 8]\n",
            " [7 8 9]]\n"
          ],
          "name": "stdout"
        }
      ]
    },
    {
      "cell_type": "markdown",
      "metadata": {
        "id": "pV2tSIb1EiT4",
        "colab_type": "text"
      },
      "source": [
        "77. How to negate a boolean, or to change the sign of a float inplace?."
      ]
    },
    {
      "cell_type": "code",
      "metadata": {
        "id": "PgLzmwYKiEVq",
        "colab_type": "code",
        "colab": {
          "base_uri": "https://localhost:8080/",
          "height": 364
        },
        "outputId": "ca096d45-18d1-427c-9d50-41d716caebbb"
      },
      "source": [
        "Z = np.random.randint(0,2,100)\n",
        "np.logical_not(Z, out=Z)\n",
        "Z = np.random.uniform(-1.0,1.0,100)\n",
        "np.negative(Z, out=Z)"
      ],
      "execution_count": 155,
      "outputs": [
        {
          "output_type": "execute_result",
          "data": {
            "text/plain": [
              "array([-0.79186135, -0.22251153, -0.9602394 , -0.28286213, -0.52480295,\n",
              "        0.89945295,  0.09744696, -0.5580724 ,  0.65430477, -0.15394662,\n",
              "       -0.301893  ,  0.09393876,  0.83861768, -0.217086  , -0.73610515,\n",
              "        0.12311777,  0.23825715, -0.17563787,  0.54360351,  0.10832128,\n",
              "        0.82620605,  0.38251663,  0.46223126,  0.16254478,  0.0097363 ,\n",
              "        0.58408502, -0.99945968,  0.04634388,  0.01960939, -0.78565661,\n",
              "        0.84471186,  0.27262877,  0.54253727, -0.32910032,  0.07516819,\n",
              "        0.31772027,  0.76993192, -0.11891587,  0.45815598, -0.80828575,\n",
              "        0.541933  , -0.32796762,  0.32857314,  0.31786737, -0.28669799,\n",
              "        0.69010975,  0.34031381,  0.08072527,  0.87886037, -0.76479989,\n",
              "       -0.39765319, -0.78954779, -0.0415745 ,  0.20866954,  0.03690498,\n",
              "       -0.30743702, -0.21189586, -0.63105633, -0.64163023, -0.16449962,\n",
              "       -0.09426317, -0.09448111, -0.69975312,  0.5500967 ,  0.629684  ,\n",
              "        0.01520882,  0.03330668,  0.96807353, -0.62261874,  0.25847443,\n",
              "       -0.19460184,  0.37737429, -0.09600759,  0.72583314,  0.21191501,\n",
              "       -0.61878103, -0.86738901, -0.24482283, -0.30636618,  0.46751211,\n",
              "        0.61292885,  0.89751241,  0.13776485,  0.14740913, -0.15069261,\n",
              "        0.19598187,  0.88286479,  0.10760678,  0.66109918, -0.21004563,\n",
              "        0.15606538, -0.73563985,  0.09080486, -0.99309202,  0.07449714,\n",
              "       -0.57243275,  0.61976057,  0.92309133,  0.77058998,  0.8411306 ])"
            ]
          },
          "metadata": {
            "tags": []
          },
          "execution_count": 155
        }
      ]
    },
    {
      "cell_type": "markdown",
      "metadata": {
        "id": "O_HeTIPFEiW1",
        "colab_type": "text"
      },
      "source": [
        "78. Consider 2 sets of points P0,P1 describing lines (2d) and a point p, how to compute distance from p to each line i (P0[i],P1[i])?."
      ]
    },
    {
      "cell_type": "code",
      "metadata": {
        "id": "GBW1sFG1iIaQ",
        "colab_type": "code",
        "colab": {
          "base_uri": "https://localhost:8080/",
          "height": 52
        },
        "outputId": "4d932b74-8db2-4281-fe07-b18de5c4700c"
      },
      "source": [
        "def distance(P0, P1, p):\n",
        "    T = P1 - P0\n",
        "    L = (T**2).sum(axis=1)\n",
        "    U = -((P0[:,0]-p[...,0])*T[:,0] + (P0[:,1]-p[...,1])*T[:,1]) / L\n",
        "    U = U.reshape(len(U),1)\n",
        "    D = P0 + U*T - p\n",
        "    return np.sqrt((D**2).sum(axis=1))\n",
        "P0 = np.random.uniform(-10,10,(10,2))\n",
        "P1 = np.random.uniform(-10,10,(10,2))\n",
        "p  = np.random.uniform(-10,10,( 1,2))\n",
        "print(distance(P0, P1, p))"
      ],
      "execution_count": 156,
      "outputs": [
        {
          "output_type": "stream",
          "text": [
            "[ 2.91652363 19.03797451 13.35866468 10.76562706  5.90043885 11.19200946\n",
            "  7.84061858  7.79184811  5.7193492   3.27121367]\n"
          ],
          "name": "stdout"
        }
      ]
    },
    {
      "cell_type": "markdown",
      "metadata": {
        "id": "4nxuAR1oEiZv",
        "colab_type": "text"
      },
      "source": [
        "79. Consider 2 sets of points P0,P1 describing lines (2d) and a set of points P, how to compute distance from each point j (P[j]) to each line i (P0[i],P1[i])?."
      ]
    },
    {
      "cell_type": "code",
      "metadata": {
        "id": "MSKCQhKuiMSt",
        "colab_type": "code",
        "colab": {
          "base_uri": "https://localhost:8080/",
          "height": 364
        },
        "outputId": "d0a39a56-e6aa-4dd3-825d-8a46e0c4689c"
      },
      "source": [
        "P0 = np.random.uniform(-10, 10, (10,2))\n",
        "P1 = np.random.uniform(-10,10,(10,2))\n",
        "p = np.random.uniform(-10, 10, (10,2))\n",
        "print(np.array([distance(P0,P1,p_i) for p_i in p]))"
      ],
      "execution_count": 157,
      "outputs": [
        {
          "output_type": "stream",
          "text": [
            "[[11.0815807  11.83547222 11.46486006  3.04045826  6.92413453  7.860907\n",
            "  12.26070356 17.2654316   7.21897451  3.44633049]\n",
            " [ 1.60890251  0.34700867  3.7867407   9.70830462  3.11270472  2.80129025\n",
            "   1.26279154  7.32017701  0.94040105  5.3756476 ]\n",
            " [12.85733723  4.41417269  0.30283182  0.6853388   6.55786477  5.2503043\n",
            "   3.98028913  7.54637991  4.19880745 12.7530709 ]\n",
            " [ 2.84862497  8.29892198  7.66446594 15.54488959  8.93842119  9.20833617\n",
            "   7.99390846  2.90974744 12.20316041  0.48908196]\n",
            " [10.94990529  8.52067682  6.83998505  0.95812226  1.92413113  2.91736948\n",
            "   8.67122533 13.2298303   2.68911578  6.21182933]\n",
            " [ 7.25369361  2.63344185  0.98933669  4.30574039  3.13051506  2.44562173\n",
            "   2.70439352  7.20615336  3.22217523  5.91425541]\n",
            " [ 2.42823008  2.46091963  4.03774453  6.59289838  1.93340403  2.05253741\n",
            "   3.08574768  8.58788334  0.48807652  1.19158658]\n",
            " [ 2.51772748  3.88551784  5.05011533 10.4252372   8.01693623  7.74937834\n",
            "   3.8268706   0.74856266  9.37138767  4.61712954]\n",
            " [ 0.15254349  1.33708499  0.18905478  9.93953967  1.4477279   1.51467107\n",
            "   0.77643965  4.66590482  4.36867768  1.21981535]\n",
            " [ 0.14322544  2.06862928  5.23501443  7.99499499  4.16569634  3.98986473\n",
            "   2.96231823  8.95458931  0.55110019  4.70970631]]\n"
          ],
          "name": "stdout"
        }
      ]
    },
    {
      "cell_type": "markdown",
      "metadata": {
        "id": "fCYmBSgLEic5",
        "colab_type": "text"
      },
      "source": [
        "80. Consider an arbitrary array, write a function that extract a subpart with a fixed shape and centered on a given element (pad with a fill value when necessary)."
      ]
    },
    {
      "cell_type": "code",
      "metadata": {
        "id": "kpeFTRfRiPnB",
        "colab_type": "code",
        "colab": {
          "base_uri": "https://localhost:8080/",
          "height": 315
        },
        "outputId": "d84880ff-59e0-4d62-a74c-4e752039daa5"
      },
      "source": [
        "Z = np.random.randint(0,10,(10,10))\n",
        "shape = (5,5)\n",
        "fill  = 0\n",
        "position = (1,1)\n",
        "R = np.ones(shape, dtype=Z.dtype)*fill\n",
        "P  = np.array(list(position)).astype(int)\n",
        "Rs = np.array(list(R.shape)).astype(int)\n",
        "Zs = np.array(list(Z.shape)).astype(int)\n",
        "R_start = np.zeros((len(shape),)).astype(int)\n",
        "R_stop  = np.array(list(shape)).astype(int)\n",
        "Z_start = (P-Rs//2)\n",
        "Z_stop  = (P+Rs//2)+Rs%2\n",
        "R_start = (R_start - np.minimum(Z_start,0)).tolist()\n",
        "Z_start = (np.maximum(Z_start,0)).tolist()\n",
        "R_stop = np.maximum(R_start, (R_stop - np.maximum(Z_stop-Zs,0))).tolist()\n",
        "Z_stop = (np.minimum(Z_stop,Zs)).tolist()\n",
        "r = [slice(start,stop) for start,stop in zip(R_start,R_stop)]\n",
        "z = [slice(start,stop) for start,stop in zip(Z_start,Z_stop)]\n",
        "R[r] = Z[z]\n",
        "print(Z)\n",
        "print(R)"
      ],
      "execution_count": 158,
      "outputs": [
        {
          "output_type": "stream",
          "text": [
            "[[8 0 4 5 0 6 9 0 2 5]\n",
            " [1 9 0 6 2 6 6 6 8 9]\n",
            " [7 4 1 8 5 8 0 0 2 4]\n",
            " [7 5 1 4 2 3 4 1 4 0]\n",
            " [0 2 3 7 2 6 5 1 8 7]\n",
            " [2 0 9 6 9 1 8 5 3 2]\n",
            " [1 5 7 7 7 4 3 7 1 8]\n",
            " [2 9 6 8 5 2 1 3 3 8]\n",
            " [9 3 4 9 8 2 1 2 8 9]\n",
            " [7 5 0 6 6 8 8 3 3 4]]\n",
            "[[0 0 0 0 0]\n",
            " [0 8 0 4 5]\n",
            " [0 1 9 0 6]\n",
            " [0 7 4 1 8]\n",
            " [0 7 5 1 4]]\n"
          ],
          "name": "stdout"
        },
        {
          "output_type": "stream",
          "text": [
            "/usr/local/lib/python3.6/dist-packages/ipykernel_launcher.py:19: FutureWarning: Using a non-tuple sequence for multidimensional indexing is deprecated; use `arr[tuple(seq)]` instead of `arr[seq]`. In the future this will be interpreted as an array index, `arr[np.array(seq)]`, which will result either in an error or a different result.\n"
          ],
          "name": "stderr"
        }
      ]
    },
    {
      "cell_type": "markdown",
      "metadata": {
        "id": "N2aWnz24Eifv",
        "colab_type": "text"
      },
      "source": [
        "81. Consider an array Z = [1,2,3,4,5,6,7,8,9,10,11,12,13,14], how to generate an array R = [[1,2,3,4], [2,3,4,5], [3,4,5,6], ..., [11,12,13,14]]?."
      ]
    },
    {
      "cell_type": "code",
      "metadata": {
        "id": "00QB6qNaigGq",
        "colab_type": "code",
        "colab": {
          "base_uri": "https://localhost:8080/",
          "height": 208
        },
        "outputId": "3984cd12-87e6-4bdd-b776-8000b885979c"
      },
      "source": [
        "Z = np.arange(1,15,dtype=np.uint32)\n",
        "R = stride_tricks.as_strided(Z,(11,4),(4,4))\n",
        "print(R)"
      ],
      "execution_count": 159,
      "outputs": [
        {
          "output_type": "stream",
          "text": [
            "[[ 1  2  3  4]\n",
            " [ 2  3  4  5]\n",
            " [ 3  4  5  6]\n",
            " [ 4  5  6  7]\n",
            " [ 5  6  7  8]\n",
            " [ 6  7  8  9]\n",
            " [ 7  8  9 10]\n",
            " [ 8  9 10 11]\n",
            " [ 9 10 11 12]\n",
            " [10 11 12 13]\n",
            " [11 12 13 14]]\n"
          ],
          "name": "stdout"
        }
      ]
    },
    {
      "cell_type": "markdown",
      "metadata": {
        "id": "lOZJeWz7EinS",
        "colab_type": "text"
      },
      "source": [
        "82. Compute a matrix rank."
      ]
    },
    {
      "cell_type": "code",
      "metadata": {
        "id": "6q6A6I7yiij8",
        "colab_type": "code",
        "colab": {
          "base_uri": "https://localhost:8080/",
          "height": 34
        },
        "outputId": "5b31e89f-b1e5-41e9-e054-634c91de589e"
      },
      "source": [
        "Z = np.random.uniform(0,1,(10,10))\n",
        "U, S, V = np.linalg.svd(Z)\n",
        "rank = np.sum(S > 1e-10)\n",
        "print(rank)"
      ],
      "execution_count": 160,
      "outputs": [
        {
          "output_type": "stream",
          "text": [
            "10\n"
          ],
          "name": "stdout"
        }
      ]
    },
    {
      "cell_type": "markdown",
      "metadata": {
        "id": "qz5sECQXEiqN",
        "colab_type": "text"
      },
      "source": [
        "83. How to find the most frequent value in an array?."
      ]
    },
    {
      "cell_type": "code",
      "metadata": {
        "id": "ZLPlPw-tim-z",
        "colab_type": "code",
        "colab": {
          "base_uri": "https://localhost:8080/",
          "height": 34
        },
        "outputId": "4ab2616b-56db-4119-f33d-e53ada3a23ba"
      },
      "source": [
        "Z = np.random.randint(0,10,50)\n",
        "print(np.bincount(Z).argmax())"
      ],
      "execution_count": 161,
      "outputs": [
        {
          "output_type": "stream",
          "text": [
            "7\n"
          ],
          "name": "stdout"
        }
      ]
    },
    {
      "cell_type": "markdown",
      "metadata": {
        "id": "_DoVNt-XEitS",
        "colab_type": "text"
      },
      "source": [
        "84. Extract all the contiguous 3x3 blocks from a random 10x10 matrix."
      ]
    },
    {
      "cell_type": "code",
      "metadata": {
        "id": "WeF4RCfSiqwF",
        "colab_type": "code",
        "colab": {
          "base_uri": "https://localhost:8080/",
          "height": 1000
        },
        "outputId": "5948e05f-5739-4fad-d9f3-3b7719dc13b0"
      },
      "source": [
        "Z = np.random.randint(0,5,(10,10))\n",
        "n = 3\n",
        "i = 1 + (Z.shape[0]-3)\n",
        "j = 1 + (Z.shape[1]-3)\n",
        "C = stride_tricks.as_strided(Z, shape=(i, j, n, n), strides=Z.strides + Z.strides)\n",
        "print(C)"
      ],
      "execution_count": 162,
      "outputs": [
        {
          "output_type": "stream",
          "text": [
            "[[[[3 3 0]\n",
            "   [4 4 2]\n",
            "   [3 0 2]]\n",
            "\n",
            "  [[3 0 4]\n",
            "   [4 2 0]\n",
            "   [0 2 1]]\n",
            "\n",
            "  [[0 4 4]\n",
            "   [2 0 4]\n",
            "   [2 1 4]]\n",
            "\n",
            "  [[4 4 4]\n",
            "   [0 4 0]\n",
            "   [1 4 0]]\n",
            "\n",
            "  [[4 4 0]\n",
            "   [4 0 1]\n",
            "   [4 0 2]]\n",
            "\n",
            "  [[4 0 3]\n",
            "   [0 1 1]\n",
            "   [0 2 1]]\n",
            "\n",
            "  [[0 3 3]\n",
            "   [1 1 3]\n",
            "   [2 1 0]]\n",
            "\n",
            "  [[3 3 0]\n",
            "   [1 3 3]\n",
            "   [1 0 2]]]\n",
            "\n",
            "\n",
            " [[[4 4 2]\n",
            "   [3 0 2]\n",
            "   [3 2 4]]\n",
            "\n",
            "  [[4 2 0]\n",
            "   [0 2 1]\n",
            "   [2 4 1]]\n",
            "\n",
            "  [[2 0 4]\n",
            "   [2 1 4]\n",
            "   [4 1 0]]\n",
            "\n",
            "  [[0 4 0]\n",
            "   [1 4 0]\n",
            "   [1 0 2]]\n",
            "\n",
            "  [[4 0 1]\n",
            "   [4 0 2]\n",
            "   [0 2 3]]\n",
            "\n",
            "  [[0 1 1]\n",
            "   [0 2 1]\n",
            "   [2 3 4]]\n",
            "\n",
            "  [[1 1 3]\n",
            "   [2 1 0]\n",
            "   [3 4 1]]\n",
            "\n",
            "  [[1 3 3]\n",
            "   [1 0 2]\n",
            "   [4 1 1]]]\n",
            "\n",
            "\n",
            " [[[3 0 2]\n",
            "   [3 2 4]\n",
            "   [1 0 1]]\n",
            "\n",
            "  [[0 2 1]\n",
            "   [2 4 1]\n",
            "   [0 1 4]]\n",
            "\n",
            "  [[2 1 4]\n",
            "   [4 1 0]\n",
            "   [1 4 4]]\n",
            "\n",
            "  [[1 4 0]\n",
            "   [1 0 2]\n",
            "   [4 4 2]]\n",
            "\n",
            "  [[4 0 2]\n",
            "   [0 2 3]\n",
            "   [4 2 0]]\n",
            "\n",
            "  [[0 2 1]\n",
            "   [2 3 4]\n",
            "   [2 0 3]]\n",
            "\n",
            "  [[2 1 0]\n",
            "   [3 4 1]\n",
            "   [0 3 4]]\n",
            "\n",
            "  [[1 0 2]\n",
            "   [4 1 1]\n",
            "   [3 4 1]]]\n",
            "\n",
            "\n",
            " [[[3 2 4]\n",
            "   [1 0 1]\n",
            "   [3 1 3]]\n",
            "\n",
            "  [[2 4 1]\n",
            "   [0 1 4]\n",
            "   [1 3 0]]\n",
            "\n",
            "  [[4 1 0]\n",
            "   [1 4 4]\n",
            "   [3 0 2]]\n",
            "\n",
            "  [[1 0 2]\n",
            "   [4 4 2]\n",
            "   [0 2 0]]\n",
            "\n",
            "  [[0 2 3]\n",
            "   [4 2 0]\n",
            "   [2 0 1]]\n",
            "\n",
            "  [[2 3 4]\n",
            "   [2 0 3]\n",
            "   [0 1 1]]\n",
            "\n",
            "  [[3 4 1]\n",
            "   [0 3 4]\n",
            "   [1 1 3]]\n",
            "\n",
            "  [[4 1 1]\n",
            "   [3 4 1]\n",
            "   [1 3 1]]]\n",
            "\n",
            "\n",
            " [[[1 0 1]\n",
            "   [3 1 3]\n",
            "   [0 1 2]]\n",
            "\n",
            "  [[0 1 4]\n",
            "   [1 3 0]\n",
            "   [1 2 1]]\n",
            "\n",
            "  [[1 4 4]\n",
            "   [3 0 2]\n",
            "   [2 1 0]]\n",
            "\n",
            "  [[4 4 2]\n",
            "   [0 2 0]\n",
            "   [1 0 0]]\n",
            "\n",
            "  [[4 2 0]\n",
            "   [2 0 1]\n",
            "   [0 0 1]]\n",
            "\n",
            "  [[2 0 3]\n",
            "   [0 1 1]\n",
            "   [0 1 0]]\n",
            "\n",
            "  [[0 3 4]\n",
            "   [1 1 3]\n",
            "   [1 0 0]]\n",
            "\n",
            "  [[3 4 1]\n",
            "   [1 3 1]\n",
            "   [0 0 1]]]\n",
            "\n",
            "\n",
            " [[[3 1 3]\n",
            "   [0 1 2]\n",
            "   [1 2 2]]\n",
            "\n",
            "  [[1 3 0]\n",
            "   [1 2 1]\n",
            "   [2 2 3]]\n",
            "\n",
            "  [[3 0 2]\n",
            "   [2 1 0]\n",
            "   [2 3 4]]\n",
            "\n",
            "  [[0 2 0]\n",
            "   [1 0 0]\n",
            "   [3 4 2]]\n",
            "\n",
            "  [[2 0 1]\n",
            "   [0 0 1]\n",
            "   [4 2 4]]\n",
            "\n",
            "  [[0 1 1]\n",
            "   [0 1 0]\n",
            "   [2 4 2]]\n",
            "\n",
            "  [[1 1 3]\n",
            "   [1 0 0]\n",
            "   [4 2 0]]\n",
            "\n",
            "  [[1 3 1]\n",
            "   [0 0 1]\n",
            "   [2 0 0]]]\n",
            "\n",
            "\n",
            " [[[0 1 2]\n",
            "   [1 2 2]\n",
            "   [2 4 2]]\n",
            "\n",
            "  [[1 2 1]\n",
            "   [2 2 3]\n",
            "   [4 2 1]]\n",
            "\n",
            "  [[2 1 0]\n",
            "   [2 3 4]\n",
            "   [2 1 2]]\n",
            "\n",
            "  [[1 0 0]\n",
            "   [3 4 2]\n",
            "   [1 2 4]]\n",
            "\n",
            "  [[0 0 1]\n",
            "   [4 2 4]\n",
            "   [2 4 2]]\n",
            "\n",
            "  [[0 1 0]\n",
            "   [2 4 2]\n",
            "   [4 2 1]]\n",
            "\n",
            "  [[1 0 0]\n",
            "   [4 2 0]\n",
            "   [2 1 4]]\n",
            "\n",
            "  [[0 0 1]\n",
            "   [2 0 0]\n",
            "   [1 4 3]]]\n",
            "\n",
            "\n",
            " [[[1 2 2]\n",
            "   [2 4 2]\n",
            "   [3 0 4]]\n",
            "\n",
            "  [[2 2 3]\n",
            "   [4 2 1]\n",
            "   [0 4 4]]\n",
            "\n",
            "  [[2 3 4]\n",
            "   [2 1 2]\n",
            "   [4 4 4]]\n",
            "\n",
            "  [[3 4 2]\n",
            "   [1 2 4]\n",
            "   [4 4 2]]\n",
            "\n",
            "  [[4 2 4]\n",
            "   [2 4 2]\n",
            "   [4 2 3]]\n",
            "\n",
            "  [[2 4 2]\n",
            "   [4 2 1]\n",
            "   [2 3 2]]\n",
            "\n",
            "  [[4 2 0]\n",
            "   [2 1 4]\n",
            "   [3 2 0]]\n",
            "\n",
            "  [[2 0 0]\n",
            "   [1 4 3]\n",
            "   [2 0 4]]]]\n"
          ],
          "name": "stdout"
        }
      ]
    },
    {
      "cell_type": "markdown",
      "metadata": {
        "id": "qb7S16CcEiwY",
        "colab_type": "text"
      },
      "source": [
        "85. Create a 2D array subclass such that Z[i,j] == Z[j,i]."
      ]
    },
    {
      "cell_type": "code",
      "metadata": {
        "id": "y_dhhpXWitsS",
        "colab_type": "code",
        "colab": {
          "base_uri": "https://localhost:8080/",
          "height": 104
        },
        "outputId": "e4e444e1-b0f8-4877-973f-3303ee2b3323"
      },
      "source": [
        "class Symetric(np.ndarray):\n",
        "    def __setitem__(self, index, value):\n",
        "        i,j = index\n",
        "        super(Symetric, self).__setitem__((i,j), value)\n",
        "        super(Symetric, self).__setitem__((j,i), value)\n",
        "def symetric(Z):\n",
        "    return np.asarray(Z + Z.T - np.diag(Z.diagonal())).view(Symetric)\n",
        "S = symetric(np.random.randint(0,10,(5,5)))\n",
        "S[2,3] = 42\n",
        "print(S)"
      ],
      "execution_count": 163,
      "outputs": [
        {
          "output_type": "stream",
          "text": [
            "[[ 1  9  9  9  2]\n",
            " [ 9  0  9 18  5]\n",
            " [ 9  9  3 42  8]\n",
            " [ 9 18 42  1  1]\n",
            " [ 2  5  8  1  8]]\n"
          ],
          "name": "stdout"
        }
      ]
    },
    {
      "cell_type": "markdown",
      "metadata": {
        "id": "IbfJrHPJEizf",
        "colab_type": "text"
      },
      "source": [
        "86. Consider a set of p matrices wich shape (n,n) and a set of p vectors with shape (n,1). How to compute the sum of of the p matrix products at once? (result has shape (n,1))."
      ]
    },
    {
      "cell_type": "code",
      "metadata": {
        "id": "sKe0ZpL1ix3z",
        "colab_type": "code",
        "colab": {
          "base_uri": "https://localhost:8080/",
          "height": 364
        },
        "outputId": "63e37db3-b336-4462-9246-fbc52fcdacc6"
      },
      "source": [
        "p, n = 10, 20\n",
        "M = np.ones((p,n,n))\n",
        "V = np.ones((p,n,1))\n",
        "S = np.tensordot(M, V, axes=[[0, 2], [0, 1]])\n",
        "print(S)"
      ],
      "execution_count": 164,
      "outputs": [
        {
          "output_type": "stream",
          "text": [
            "[[200.]\n",
            " [200.]\n",
            " [200.]\n",
            " [200.]\n",
            " [200.]\n",
            " [200.]\n",
            " [200.]\n",
            " [200.]\n",
            " [200.]\n",
            " [200.]\n",
            " [200.]\n",
            " [200.]\n",
            " [200.]\n",
            " [200.]\n",
            " [200.]\n",
            " [200.]\n",
            " [200.]\n",
            " [200.]\n",
            " [200.]\n",
            " [200.]]\n"
          ],
          "name": "stdout"
        }
      ]
    },
    {
      "cell_type": "markdown",
      "metadata": {
        "id": "DBbUhEg9Ei2a",
        "colab_type": "text"
      },
      "source": [
        "87. Consider a 16x16 array, how to get the block-sum (block size is 4x4)?."
      ]
    },
    {
      "cell_type": "code",
      "metadata": {
        "id": "KxPnN3woi-63",
        "colab_type": "code",
        "colab": {
          "base_uri": "https://localhost:8080/",
          "height": 86
        },
        "outputId": "ce38c534-1fc9-4944-97e3-1f3e22c1f0dc"
      },
      "source": [
        "Z = np.ones((16,16))\n",
        "k = 4\n",
        "S = np.add.reduceat(np.add.reduceat(Z, np.arange(0, Z.shape[0], k), axis=0),\n",
        "                                       np.arange(0, Z.shape[1], k), axis=1)\n",
        "print(S)"
      ],
      "execution_count": 165,
      "outputs": [
        {
          "output_type": "stream",
          "text": [
            "[[16. 16. 16. 16.]\n",
            " [16. 16. 16. 16.]\n",
            " [16. 16. 16. 16.]\n",
            " [16. 16. 16. 16.]]\n"
          ],
          "name": "stdout"
        }
      ]
    },
    {
      "cell_type": "markdown",
      "metadata": {
        "id": "c-s_Ui1yEi9-",
        "colab_type": "text"
      },
      "source": [
        "\n",
        "88. How to implement the Game of Life using numpy arrays?."
      ]
    },
    {
      "cell_type": "code",
      "metadata": {
        "id": "aYiXss6xjDvz",
        "colab_type": "code",
        "colab": {
          "base_uri": "https://localhost:8080/",
          "height": 1000
        },
        "outputId": "1e55a3a1-1332-405a-edaa-6b96ba1c7615"
      },
      "source": [
        "def iterate(Z):\n",
        "    N = (Z[0:-2,0:-2] + Z[0:-2,1:-1] + Z[0:-2,2:] +\n",
        "         Z[1:-1,0:-2]                + Z[1:-1,2:] +\n",
        "         Z[2:  ,0:-2] + Z[2:  ,1:-1] + Z[2:  ,2:])\n",
        "    birth = (N==3) & (Z[1:-1,1:-1]==0)\n",
        "    survive = ((N==2) | (N==3)) & (Z[1:-1,1:-1]==1)\n",
        "    Z[...] = 0\n",
        "    Z[1:-1,1:-1][birth | survive] = 1\n",
        "    return Z\n",
        "Z = np.random.randint(0,2,(50,50))\n",
        "for i in range(100): Z = iterate(Z)\n",
        "print(Z)"
      ],
      "execution_count": 166,
      "outputs": [
        {
          "output_type": "stream",
          "text": [
            "[[0 0 0 0 0 0 0 0 0 0 0 0 0 0 0 0 0 0 0 0 0 0 0 0 0 0 0 0 0 0 0 0 0 0 0 0\n",
            "  0 0 0 0 0 0 0 0 0 0 0 0 0 0]\n",
            " [0 0 0 0 0 0 0 0 0 0 0 0 0 0 0 0 0 0 0 0 0 0 0 0 0 0 0 0 0 1 1 0 0 0 0 0\n",
            "  0 0 0 0 1 0 0 0 0 0 0 0 0 0]\n",
            " [0 0 0 0 0 0 0 0 0 0 0 0 0 0 0 0 0 0 0 0 0 0 0 0 0 0 0 0 1 1 1 1 0 0 0 0\n",
            "  0 0 0 1 1 0 0 0 0 1 1 0 0 0]\n",
            " [0 0 0 0 0 0 0 0 0 0 0 0 0 0 0 0 0 0 0 0 0 0 0 0 0 0 0 1 0 0 0 1 1 1 0 0\n",
            "  0 0 1 1 1 0 1 1 1 0 1 0 0 0]\n",
            " [0 0 0 0 0 0 0 0 0 0 0 0 0 0 0 0 0 0 0 0 0 0 0 0 0 0 1 1 0 0 0 0 1 1 0 0\n",
            "  0 0 0 1 1 1 1 0 0 0 1 0 0 0]\n",
            " [0 0 0 0 0 0 0 0 0 0 0 0 0 0 0 0 0 0 0 0 0 0 0 0 0 1 1 1 0 0 0 0 0 0 0 0\n",
            "  0 0 0 0 1 1 0 0 0 1 0 0 0 0]\n",
            " [0 0 1 0 0 0 0 0 0 0 0 0 0 0 0 0 0 0 0 0 0 0 0 0 0 0 0 0 0 0 0 0 0 0 0 0\n",
            "  0 0 0 0 0 0 0 0 1 0 0 0 0 0]\n",
            " [0 0 1 0 0 0 0 0 0 0 0 0 0 0 0 0 0 0 0 0 0 0 0 0 0 0 1 0 1 0 0 1 1 0 0 0\n",
            "  0 0 0 0 0 0 0 0 0 0 0 0 0 0]\n",
            " [0 0 1 0 0 0 0 0 0 0 0 0 0 0 0 0 0 0 0 0 0 0 0 0 0 0 0 1 0 0 1 0 0 1 0 0\n",
            "  0 0 0 0 1 1 0 0 0 0 0 0 0 0]\n",
            " [0 0 0 0 0 0 0 0 0 0 0 0 0 0 0 0 0 0 0 0 0 0 0 0 0 0 0 0 1 1 1 0 0 0 0 0\n",
            "  0 0 0 1 0 0 1 0 0 0 0 0 0 0]\n",
            " [0 0 0 0 0 0 0 0 0 0 0 0 0 0 0 0 0 0 0 0 0 0 0 0 0 0 0 0 0 0 0 1 0 0 0 0\n",
            "  0 0 0 0 0 0 0 1 0 0 0 0 0 0]\n",
            " [0 0 0 0 0 0 0 0 0 0 0 0 0 0 0 0 0 0 0 0 0 0 0 0 0 0 0 0 1 1 1 0 0 0 0 0\n",
            "  0 0 0 0 0 0 0 0 0 1 0 0 0 0]\n",
            " [0 0 0 0 0 0 0 0 0 0 0 0 0 0 0 0 0 0 0 0 0 0 0 0 0 0 0 0 0 1 1 0 0 0 0 0\n",
            "  0 0 0 0 0 0 0 0 0 1 1 0 0 0]\n",
            " [0 0 0 0 0 0 0 0 0 0 0 0 0 0 0 0 0 0 0 0 0 0 0 0 0 0 0 0 0 0 0 0 0 0 0 0\n",
            "  0 0 0 0 0 0 1 1 0 1 0 1 0 0]\n",
            " [0 0 0 0 0 0 0 0 0 0 0 0 0 0 0 0 0 0 0 0 0 0 0 0 0 0 0 0 0 0 0 0 0 0 0 0\n",
            "  0 0 0 0 0 1 1 0 0 0 1 0 0 0]\n",
            " [0 0 0 0 0 0 0 0 0 0 0 0 0 0 0 0 0 0 0 0 0 0 0 0 0 0 0 0 0 0 0 0 0 0 0 0\n",
            "  0 0 0 0 1 0 1 0 0 0 0 0 0 0]\n",
            " [0 0 0 0 0 0 0 0 0 0 0 0 0 0 0 0 0 0 0 0 0 0 0 0 0 0 0 0 0 0 0 0 0 0 0 1\n",
            "  1 1 0 0 0 0 0 0 0 0 0 0 0 0]\n",
            " [0 0 0 0 0 0 0 0 0 0 0 0 0 0 0 0 0 0 0 0 0 0 0 0 0 0 0 0 0 0 0 0 1 0 1 0\n",
            "  1 0 0 0 0 0 1 0 0 0 0 0 0 0]\n",
            " [0 0 0 0 0 0 0 0 0 0 0 0 0 0 0 0 0 0 0 0 0 0 0 0 0 0 0 0 0 0 0 1 1 0 0 0\n",
            "  1 0 0 1 0 0 0 0 0 0 0 0 0 0]\n",
            " [0 0 0 0 0 1 1 0 0 0 0 1 1 0 0 0 0 0 0 0 0 0 0 0 0 0 0 0 0 0 0 0 0 0 0 1\n",
            "  1 1 1 0 0 0 0 0 0 1 1 0 0 0]\n",
            " [0 0 0 0 1 0 0 0 0 0 0 1 0 1 1 0 0 0 0 0 0 1 1 1 0 0 0 0 0 0 0 0 0 0 0 0\n",
            "  0 1 0 0 1 0 0 0 0 0 1 0 0 0]\n",
            " [0 0 0 0 0 1 0 0 0 0 0 0 0 0 1 0 0 0 0 0 0 0 0 0 0 0 0 0 0 0 0 0 0 0 0 0\n",
            "  0 1 0 0 0 1 0 0 0 1 0 0 0 0]\n",
            " [0 0 0 0 0 0 0 0 0 0 0 0 0 0 0 0 0 0 0 0 0 0 0 0 0 0 0 0 0 0 1 1 0 0 1 1\n",
            "  0 1 1 0 0 0 0 1 0 0 0 0 0 0]\n",
            " [0 0 0 0 0 0 0 0 0 0 0 0 1 1 0 0 0 0 0 0 0 0 0 0 0 0 0 0 0 0 1 0 0 0 1 0\n",
            "  0 1 0 0 0 0 0 0 0 0 0 0 0 0]\n",
            " [0 0 0 0 0 0 0 0 0 0 0 0 0 0 0 0 0 0 0 0 0 0 0 0 0 0 0 0 0 0 1 1 1 0 0 1\n",
            "  1 1 0 0 0 0 0 0 0 0 0 0 0 0]\n",
            " [0 0 0 0 0 0 0 0 0 0 0 0 0 0 0 0 0 0 0 0 0 0 0 0 0 0 0 0 0 0 0 0 0 0 0 1\n",
            "  1 0 0 0 0 0 0 0 0 0 0 0 0 0]\n",
            " [0 0 0 0 0 0 0 0 0 0 0 0 0 0 0 0 0 0 0 0 0 0 0 0 0 0 0 0 0 0 0 0 0 0 0 0\n",
            "  0 0 0 0 0 0 0 0 0 0 0 0 0 0]\n",
            " [0 0 0 0 0 0 0 0 0 0 0 0 0 0 0 0 0 0 0 0 0 0 0 0 0 0 0 0 1 0 0 0 0 0 0 0\n",
            "  0 0 0 0 0 0 0 0 0 0 0 0 0 0]\n",
            " [0 0 0 0 0 0 0 0 0 0 0 0 0 0 0 0 0 0 0 0 0 0 0 0 0 0 0 1 0 1 0 0 0 0 0 0\n",
            "  0 0 0 0 0 0 0 0 0 0 0 0 0 0]\n",
            " [0 0 0 0 0 0 0 0 0 0 0 0 0 0 0 0 0 0 0 0 0 0 0 0 0 0 0 1 0 1 0 0 0 0 0 1\n",
            "  1 0 0 0 0 0 0 0 0 0 0 0 0 0]\n",
            " [0 0 0 0 0 0 0 0 0 0 0 0 0 0 0 0 1 0 0 0 0 1 1 1 0 0 0 0 1 0 0 0 0 0 0 1\n",
            "  1 0 0 0 0 0 0 0 0 0 0 0 0 0]\n",
            " [0 0 0 0 0 0 0 0 0 0 0 1 1 1 0 0 1 0 0 0 0 1 0 1 0 0 0 0 0 0 0 0 0 0 0 0\n",
            "  0 0 0 0 0 0 0 0 0 0 0 0 0 0]\n",
            " [0 0 0 0 0 0 0 0 0 0 1 0 0 1 0 0 0 0 0 1 0 0 0 1 0 0 0 0 0 0 0 0 0 0 0 0\n",
            "  0 0 0 0 0 0 0 0 0 0 0 0 0 0]\n",
            " [0 0 0 0 0 0 0 0 0 0 1 0 0 0 0 0 0 1 1 0 0 0 1 0 0 0 0 0 0 0 0 0 0 0 0 0\n",
            "  0 0 0 0 0 0 0 0 0 0 0 0 0 0]\n",
            " [0 0 0 0 0 0 0 0 0 1 0 0 1 1 0 0 0 0 0 1 0 1 0 0 0 0 0 0 0 0 0 0 0 0 0 0\n",
            "  0 0 0 0 0 0 0 0 0 0 0 0 0 0]\n",
            " [0 0 0 0 0 0 0 0 0 0 1 1 0 1 0 0 0 0 0 0 0 0 1 1 1 0 0 0 0 0 0 0 0 0 0 0\n",
            "  0 0 0 0 0 0 0 0 0 0 0 0 0 0]\n",
            " [0 0 0 0 0 0 0 0 0 0 1 1 0 0 0 0 0 1 0 0 0 1 1 0 1 0 0 0 0 0 0 0 0 0 0 0\n",
            "  0 0 0 0 0 0 0 0 1 1 0 0 0 0]\n",
            " [0 0 0 0 0 0 0 0 0 0 0 0 0 0 0 0 0 1 0 0 0 1 1 0 0 0 0 1 1 0 0 0 0 0 0 0\n",
            "  0 0 0 0 0 0 0 1 1 1 0 0 0 0]\n",
            " [0 0 0 0 0 0 0 0 0 0 0 0 0 0 0 0 0 1 0 0 0 1 0 0 0 1 0 0 0 1 0 0 0 0 0 0\n",
            "  0 0 0 0 0 0 1 1 0 0 1 0 0 0]\n",
            " [0 0 0 0 0 0 0 0 0 0 0 0 0 0 0 0 0 0 0 0 1 1 0 0 0 1 1 0 1 1 0 0 0 0 0 0\n",
            "  0 0 0 0 0 0 0 0 1 0 0 0 0 0]\n",
            " [0 0 0 0 0 0 0 0 0 0 0 0 0 0 0 0 0 0 0 0 0 1 1 1 1 0 0 0 0 0 0 0 0 0 0 0\n",
            "  0 0 0 0 0 0 0 0 0 0 0 0 0 0]\n",
            " [0 0 0 0 0 1 1 0 0 0 0 0 0 0 0 0 0 0 0 0 0 0 0 1 0 0 0 0 0 0 0 0 0 0 0 0\n",
            "  0 0 0 0 0 0 0 0 0 0 0 0 0 0]\n",
            " [0 0 0 0 0 1 1 0 0 0 0 0 0 0 0 0 0 0 0 0 0 0 1 1 0 0 0 0 0 0 0 0 0 0 0 0\n",
            "  0 0 0 0 0 0 0 0 0 0 0 0 0 0]\n",
            " [0 0 0 0 0 0 0 0 0 0 0 0 0 0 0 0 1 1 0 0 0 0 0 0 0 0 0 0 0 0 0 0 0 0 0 0\n",
            "  0 0 0 0 0 0 0 0 0 0 0 0 0 0]\n",
            " [0 0 0 0 0 0 0 0 0 0 0 0 0 0 0 1 0 0 1 0 0 0 0 0 0 0 0 0 0 0 0 0 0 0 0 0\n",
            "  0 0 1 1 0 0 0 0 0 0 0 0 0 0]\n",
            " [0 0 0 0 0 0 0 1 0 0 0 0 0 0 0 1 0 1 0 0 0 0 0 0 0 0 0 0 0 0 0 0 0 0 0 0\n",
            "  0 0 1 1 0 0 1 1 0 0 0 0 0 0]\n",
            " [0 0 0 0 0 0 1 0 1 0 0 0 0 0 0 0 1 0 0 0 0 1 0 0 0 0 0 0 0 0 0 0 0 0 0 0\n",
            "  0 0 0 0 0 0 1 1 0 0 0 0 0 0]\n",
            " [0 0 0 0 0 0 1 0 0 1 0 0 0 0 0 0 0 0 0 1 1 0 1 1 0 0 0 0 0 0 0 0 0 0 0 0\n",
            "  0 0 0 0 0 0 0 0 0 0 0 0 0 0]\n",
            " [0 0 0 0 0 0 0 1 1 0 0 0 0 0 0 0 0 0 0 0 0 1 0 0 0 0 0 0 0 0 0 0 0 0 0 0\n",
            "  0 0 0 0 0 0 0 0 0 0 0 0 0 0]\n",
            " [0 0 0 0 0 0 0 0 0 0 0 0 0 0 0 0 0 0 0 0 0 0 0 0 0 0 0 0 0 0 0 0 0 0 0 0\n",
            "  0 0 0 0 0 0 0 0 0 0 0 0 0 0]]\n"
          ],
          "name": "stdout"
        }
      ]
    },
    {
      "cell_type": "markdown",
      "metadata": {
        "id": "nkxjZLVzEjBB",
        "colab_type": "text"
      },
      "source": [
        "89. How to get the n largest values of an array."
      ]
    },
    {
      "cell_type": "code",
      "metadata": {
        "id": "eH_wOVYTjIOq",
        "colab_type": "code",
        "colab": {
          "base_uri": "https://localhost:8080/",
          "height": 34
        },
        "outputId": "e7dae859-4a9c-44bb-8dd9-eeac23da80c6"
      },
      "source": [
        "Z = np.arange(10000)\n",
        "np.random.shuffle(Z)\n",
        "n = 5\n",
        "print (Z[np.argsort(Z)[-n:]])"
      ],
      "execution_count": 170,
      "outputs": [
        {
          "output_type": "stream",
          "text": [
            "[9995 9996 9997 9998 9999]\n"
          ],
          "name": "stdout"
        }
      ]
    },
    {
      "cell_type": "markdown",
      "metadata": {
        "id": "-OUUfnKDEjEM",
        "colab_type": "text"
      },
      "source": [
        "90. Given an arbitrary number of vectors, build the cartesian product (every combinations of every item)."
      ]
    },
    {
      "cell_type": "code",
      "metadata": {
        "id": "nzsPQChBjV6f",
        "colab_type": "code",
        "colab": {
          "base_uri": "https://localhost:8080/",
          "height": 225
        },
        "outputId": "0af1467f-5eef-4b01-d121-9c947423a42f"
      },
      "source": [
        "def cartesian(arrays):\n",
        "    arrays = [np.asarray(a) for a in arrays]\n",
        "    shape = (len(x) for x in arrays)\n",
        "    ix = np.indices(shape, dtype=int)\n",
        "    ix = ix.reshape(len(arrays), -1).T\n",
        "    for n, arr in enumerate(arrays):\n",
        "        ix[:, n] = arrays[n][ix[:, n]]\n",
        "    return ix\n",
        "print (cartesian(([1, 2, 3], [4, 5], [6, 7])))"
      ],
      "execution_count": 171,
      "outputs": [
        {
          "output_type": "stream",
          "text": [
            "[[1 4 6]\n",
            " [1 4 7]\n",
            " [1 5 6]\n",
            " [1 5 7]\n",
            " [2 4 6]\n",
            " [2 4 7]\n",
            " [2 5 6]\n",
            " [2 5 7]\n",
            " [3 4 6]\n",
            " [3 4 7]\n",
            " [3 5 6]\n",
            " [3 5 7]]\n"
          ],
          "name": "stdout"
        }
      ]
    },
    {
      "cell_type": "markdown",
      "metadata": {
        "id": "Jkcz5ITpEjHa",
        "colab_type": "text"
      },
      "source": [
        "91. How to create a record array from a regular array?."
      ]
    },
    {
      "cell_type": "code",
      "metadata": {
        "id": "TVqealmdjddR",
        "colab_type": "code",
        "colab": {
          "base_uri": "https://localhost:8080/",
          "height": 34
        },
        "outputId": "b2f2341b-9503-4b48-e4a0-e470b83254e5"
      },
      "source": [
        "Z = np.array([(\"Hello\", 2.5, 3),\n",
        "              (\"World\", 3.6, 2)])\n",
        "R = np.core.records.fromarrays(Z.T,\n",
        "                               names='col1, col2, col3',\n",
        "                               formats = 'S8, f8, i8')\n",
        "print(R)"
      ],
      "execution_count": 172,
      "outputs": [
        {
          "output_type": "stream",
          "text": [
            "[(b'Hello', 2.5, 3) (b'World', 3.6, 2)]\n"
          ],
          "name": "stdout"
        }
      ]
    },
    {
      "cell_type": "markdown",
      "metadata": {
        "id": "SVIh0833EjKa",
        "colab_type": "text"
      },
      "source": [
        "92. Consider a large vector Z, compute Z to the power of 3 using 3 different methods."
      ]
    },
    {
      "cell_type": "code",
      "metadata": {
        "id": "IC4ECRD4jiz7",
        "colab_type": "code",
        "colab": {
          "base_uri": "https://localhost:8080/",
          "height": 69
        },
        "outputId": "9d2a2a8d-1b4a-45b9-f659-8dc3a48963eb"
      },
      "source": [
        "x = np.random.rand(int(5e7))\n",
        "%timeit np.power(x,3)\n",
        "%timeit x*x*x\n",
        "%timeit np.einsum('i,i,i->i',x,x,x)"
      ],
      "execution_count": 5,
      "outputs": [
        {
          "output_type": "stream",
          "text": [
            "1 loop, best of 3: 3.76 s per loop\n",
            "10 loops, best of 3: 147 ms per loop\n",
            "10 loops, best of 3: 127 ms per loop\n"
          ],
          "name": "stdout"
        }
      ]
    },
    {
      "cell_type": "markdown",
      "metadata": {
        "id": "MGmVAo6uEjSB",
        "colab_type": "text"
      },
      "source": [
        "93. Consider two arrays A and B of shape (8,3) and (2,2). How to find rows of A that contain elements of each row of B regardless of the order of the elements in B?."
      ]
    },
    {
      "cell_type": "code",
      "metadata": {
        "id": "zf9Qz8utkxR8",
        "colab_type": "code",
        "colab": {
          "base_uri": "https://localhost:8080/",
          "height": 34
        },
        "outputId": "8848ff03-1b4e-4172-9b70-1296c0706190"
      },
      "source": [
        "A = np.random.randint(0,5,(8,3))\n",
        "B = np.random.randint(0,5,(2,2))\n",
        "C = (A[..., np.newaxis, np.newaxis] == B)\n",
        "rows = np.where(C.any((3,1)).all(1))[0]\n",
        "print(rows)"
      ],
      "execution_count": 6,
      "outputs": [
        {
          "output_type": "stream",
          "text": [
            "[1 2 3 5]\n"
          ],
          "name": "stdout"
        }
      ]
    },
    {
      "cell_type": "markdown",
      "metadata": {
        "id": "Bm4UcU90EjU8",
        "colab_type": "text"
      },
      "source": [
        "94. Considering a 10x3 matrix, extract rows with unequal values (e.g. [2,2,3])."
      ]
    },
    {
      "cell_type": "code",
      "metadata": {
        "id": "CuNZXI3_k0rl",
        "colab_type": "code",
        "colab": {
          "base_uri": "https://localhost:8080/",
          "height": 538
        },
        "outputId": "bd7cf3b7-4cba-426e-f8fc-d69019e51856"
      },
      "source": [
        "Z = np.random.randint(0,5,(10,3))\n",
        "print(Z)\n",
        "E = np.all(Z[:,1:] == Z[:,:-1], axis=1)\n",
        "U = Z[~E]\n",
        "print(U)\n",
        "U = Z[Z.max(axis=1) != Z.min(axis=1),:]\n",
        "print(U)"
      ],
      "execution_count": 7,
      "outputs": [
        {
          "output_type": "stream",
          "text": [
            "[[0 0 3]\n",
            " [1 1 3]\n",
            " [0 1 3]\n",
            " [2 1 3]\n",
            " [3 4 0]\n",
            " [3 0 3]\n",
            " [1 3 2]\n",
            " [2 1 4]\n",
            " [1 2 4]\n",
            " [1 4 4]]\n",
            "[[0 0 3]\n",
            " [1 1 3]\n",
            " [0 1 3]\n",
            " [2 1 3]\n",
            " [3 4 0]\n",
            " [3 0 3]\n",
            " [1 3 2]\n",
            " [2 1 4]\n",
            " [1 2 4]\n",
            " [1 4 4]]\n",
            "[[0 0 3]\n",
            " [1 1 3]\n",
            " [0 1 3]\n",
            " [2 1 3]\n",
            " [3 4 0]\n",
            " [3 0 3]\n",
            " [1 3 2]\n",
            " [2 1 4]\n",
            " [1 2 4]\n",
            " [1 4 4]]\n"
          ],
          "name": "stdout"
        }
      ]
    },
    {
      "cell_type": "markdown",
      "metadata": {
        "id": "nNa0fiSIEjX1",
        "colab_type": "text"
      },
      "source": [
        "95. Convert a vector of ints into a matrix binary representation."
      ]
    },
    {
      "cell_type": "code",
      "metadata": {
        "id": "-e7d3t85k4kj",
        "colab_type": "code",
        "colab": {
          "base_uri": "https://localhost:8080/",
          "height": 173
        },
        "outputId": "662a5323-c255-4fa6-9461-183979e2bad5"
      },
      "source": [
        "I = np.array([0, 1, 2, 3, 15, 16, 32, 64, 128])\n",
        "B = ((I.reshape(-1,1) & (2**np.arange(8))) != 0).astype(int)\n",
        "print(B[:,::-1])"
      ],
      "execution_count": 9,
      "outputs": [
        {
          "output_type": "stream",
          "text": [
            "[[0 0 0 0 0 0 0 0]\n",
            " [0 0 0 0 0 0 0 1]\n",
            " [0 0 0 0 0 0 1 0]\n",
            " [0 0 0 0 0 0 1 1]\n",
            " [0 0 0 0 1 1 1 1]\n",
            " [0 0 0 1 0 0 0 0]\n",
            " [0 0 1 0 0 0 0 0]\n",
            " [0 1 0 0 0 0 0 0]\n",
            " [1 0 0 0 0 0 0 0]]\n"
          ],
          "name": "stdout"
        }
      ]
    },
    {
      "cell_type": "markdown",
      "metadata": {
        "id": "mUZEYJe4Eja9",
        "colab_type": "text"
      },
      "source": [
        "96. Given a two dimensional array, how to extract unique rows?."
      ]
    },
    {
      "cell_type": "code",
      "metadata": {
        "id": "nklwvhcbk92n",
        "colab_type": "code",
        "colab": {
          "base_uri": "https://localhost:8080/",
          "height": 86
        },
        "outputId": "1c53f6ea-e746-45a6-ecd6-dee1e421dab1"
      },
      "source": [
        "Z = np.random.randint(0,2,(6,3))\n",
        "T = np.ascontiguousarray(Z).view(np.dtype((np.void, Z.dtype.itemsize * Z.shape[1])))\n",
        "_, idx = np.unique(T, return_index=True)\n",
        "uZ = Z[idx]\n",
        "print(uZ)"
      ],
      "execution_count": 10,
      "outputs": [
        {
          "output_type": "stream",
          "text": [
            "[[0 0 0]\n",
            " [0 0 1]\n",
            " [1 0 1]\n",
            " [1 1 1]]\n"
          ],
          "name": "stdout"
        }
      ]
    },
    {
      "cell_type": "markdown",
      "metadata": {
        "id": "BeUr5Pu-EjeV",
        "colab_type": "text"
      },
      "source": [
        "97. Considering 2 vectors A & B, write the einsum equivalent of inner, outer, sum, and mul function."
      ]
    },
    {
      "cell_type": "code",
      "metadata": {
        "id": "9o1_6sRflBiO",
        "colab_type": "code",
        "colab": {
          "base_uri": "https://localhost:8080/",
          "height": 538
        },
        "outputId": "319dd7da-2996-4627-d520-93cd54d0bf71"
      },
      "source": [
        "A = np.random.uniform(0,1,10)\n",
        "B = np.random.uniform(0,1,10)\n",
        "np.einsum('i->', A)    \n",
        "np.einsum('i,i->i', A, B) \n",
        "np.einsum('i,i', A, B)   \n",
        "np.einsum('i,j->ij', A, B)  "
      ],
      "execution_count": 17,
      "outputs": [
        {
          "output_type": "execute_result",
          "data": {
            "text/plain": [
              "array([[4.19763899e-01, 2.99677069e-02, 7.96202669e-02, 6.34913000e-02,\n",
              "        2.32267402e-01, 2.80635459e-01, 6.00905047e-01, 2.79299847e-01,\n",
              "        4.03137548e-01, 1.63536245e-02],\n",
              "       [1.77043116e-01, 1.26394295e-02, 3.35813066e-02, 2.67786192e-02,\n",
              "        9.79630332e-02, 1.18363147e-01, 2.53442715e-01, 1.17799829e-01,\n",
              "        1.70030648e-01, 6.89744082e-03],\n",
              "       [4.70537477e-01, 3.35925249e-02, 8.92509327e-02, 7.11710468e-02,\n",
              "        2.60361879e-01, 3.14580413e-01, 6.73588999e-01, 3.13083249e-01,\n",
              "        4.51900045e-01, 1.83317175e-02],\n",
              "       [3.40980384e-01, 2.43432087e-02, 6.46767129e-02, 5.15749161e-02,\n",
              "        1.88674224e-01, 2.27964307e-01, 4.88124000e-01, 2.26879370e-01,\n",
              "        3.27474555e-01, 1.32842895e-02],\n",
              "       [1.04218164e-01, 7.44032398e-03, 1.97679650e-02, 1.57634965e-02,\n",
              "        5.76668988e-02, 6.96756258e-02, 1.49191536e-01, 6.93440227e-02,\n",
              "        1.00090206e-01, 4.06024609e-03],\n",
              "       [4.37453538e-03, 3.12306024e-04, 8.29756144e-04, 6.61669426e-04,\n",
              "        2.42055587e-03, 2.92461964e-03, 6.26228314e-03, 2.91070067e-03,\n",
              "        4.20126521e-03, 1.70427970e-04],\n",
              "       [6.19935265e-01, 4.42583042e-02, 1.17588509e-01, 9.37681777e-02,\n",
              "        3.43027959e-01, 4.14461124e-01, 8.87456568e-01, 4.12488604e-01,\n",
              "        5.95380363e-01, 2.41521212e-02],\n",
              "       [2.85902826e-01, 2.04111219e-02, 5.42296739e-02, 4.32441717e-02,\n",
              "        1.58198232e-01, 1.91141904e-01, 4.09278768e-01, 1.90232214e-01,\n",
              "        2.74578554e-01, 1.11385174e-02],\n",
              "       [5.35140992e-02, 3.82046871e-03, 1.01504843e-02, 8.09426379e-03,\n",
              "        2.96108857e-02, 3.57771448e-02, 7.66070936e-02, 3.56068727e-02,\n",
              "        5.13944691e-02, 2.08486125e-03],\n",
              "       [7.39597972e-02, 5.28012422e-03, 1.40285975e-02, 1.11867735e-02,\n",
              "        4.09240767e-02, 4.94462284e-02, 1.05875745e-01, 4.92109019e-02,\n",
              "        7.10303372e-02, 2.88140728e-03]])"
            ]
          },
          "metadata": {
            "tags": []
          },
          "execution_count": 17
        }
      ]
    },
    {
      "cell_type": "markdown",
      "metadata": {
        "id": "Rl5LwCJcEjht",
        "colab_type": "text"
      },
      "source": [
        "98. Considering a path described by two vectors (X,Y), how to sample it using equidistant samples."
      ]
    },
    {
      "cell_type": "code",
      "metadata": {
        "id": "6gi7_ufzlHgY",
        "colab_type": "code",
        "colab": {
          "base_uri": "https://localhost:8080/",
          "height": 885
        },
        "outputId": "672065dc-1d78-4cee-c137-3b46a6a2d4e3"
      },
      "source": [
        "phi = np.arange(0, 10*np.pi, 0.1)\n",
        "a = 1\n",
        "x = a*phi*np.cos(phi)\n",
        "y = a*phi*np.sin(phi)\n",
        "dr = (np.diff(x)**2 + np.diff(y)**2)**.5 \n",
        "r = np.zeros_like(x)\n",
        "r[1:] = np.cumsum(dr)                \n",
        "r_int = np.linspace(0, r.max(), 200)\n",
        "x_int = np.interp(r_int, r, x)      \n",
        "y_int = np.interp(r_int, r, y)\n",
        "print(y_int)"
      ],
      "execution_count": 19,
      "outputs": [
        {
          "output_type": "stream",
          "text": [
            "[ 0.00000000e+00  1.74026724e+00  9.81816584e-01 -1.34251287e+00\n",
            " -3.53191891e+00 -4.70449474e+00 -4.59573427e+00 -3.33831870e+00\n",
            " -1.28956083e+00  1.14234685e+00  3.55645601e+00  5.62188218e+00\n",
            "  7.09389488e+00  7.82951803e+00  7.78700678e+00  6.99685666e+00\n",
            "  5.55535240e+00  3.60417006e+00  1.30506373e+00 -1.15819722e+00\n",
            " -3.61328132e+00 -5.89130465e+00 -7.87065053e+00 -9.41689057e+00\n",
            " -1.04714836e+01 -1.09903787e+01 -1.09354306e+01 -1.03330912e+01\n",
            " -9.22690166e+00 -7.67489830e+00 -5.75257980e+00 -3.54832201e+00\n",
            " -1.15854355e+00  1.31709956e+00  3.78023622e+00  6.13780326e+00\n",
            "  8.30540149e+00  1.02098724e+01  1.17910419e+01  1.29972950e+01\n",
            "  1.37774249e+01  1.41319792e+01  1.40585758e+01  1.35636816e+01\n",
            "  1.26345244e+01  1.13409083e+01  9.72216360e+00  7.79464305e+00\n",
            "  5.64544223e+00  3.32503222e+00  8.88107041e-01 -1.59329248e+00\n",
            " -4.05992507e+00 -6.45313746e+00 -8.71327144e+00 -1.07900854e+01\n",
            " -1.26380653e+01 -1.42147006e+01 -1.54892299e+01 -1.64390858e+01\n",
            " -1.70351433e+01 -1.72938948e+01 -1.71685631e+01 -1.67219979e+01\n",
            " -1.59044166e+01 -1.47824153e+01 -1.33665280e+01 -1.16678134e+01\n",
            " -9.75246391e+00 -7.63091465e+00 -5.35345831e+00 -2.96905840e+00\n",
            " -5.09631905e-01  1.97507060e+00  4.44430515e+00  6.85344809e+00\n",
            "  9.15903461e+00  1.13337844e+01  1.33467125e+01  1.51336120e+01\n",
            "  1.66966787e+01  1.80162922e+01  1.90746708e+01  1.98127969e+01\n",
            "  2.02634499e+01  2.04221761e+01  2.02877631e+01  1.98449702e+01\n",
            "  1.90974465e+01  1.80799531e+01  1.68069397e+01  1.52959771e+01\n",
            "  1.35665801e+01  1.16227312e+01  9.51601869e+00  7.27388893e+00\n",
            "  4.92519240e+00  2.49981337e+00  2.82932820e-02 -2.45817963e+00\n",
            " -4.92460367e+00 -7.34030894e+00 -9.67635928e+00 -1.19050601e+01\n",
            " -1.40002645e+01 -1.59376556e+01 -1.76950019e+01 -1.92523833e+01\n",
            " -2.05923861e+01 -2.16995543e+01 -2.25478860e+01 -2.31432552e+01\n",
            " -2.34800725e+01 -2.35556687e+01 -2.33702741e+01 -2.29269662e+01\n",
            " -2.22315865e+01 -2.12926288e+01 -2.01211000e+01 -1.87303570e+01\n",
            " -1.71359212e+01 -1.53552740e+01 -1.34076356e+01 -1.13137308e+01\n",
            " -9.09554383e+00 -6.77606668e+00 -4.37904252e+00 -1.92870828e+00\n",
            "  5.50461201e-01  3.03400451e+00  5.49771780e+00  7.91788934e+00\n",
            "  1.02715222e+01  1.25365431e+01  1.46919953e+01  1.67182148e+01\n",
            "  1.85969872e+01  2.03116866e+01  2.18473923e+01  2.31909872e+01\n",
            "  2.43312337e+01  2.52588296e+01  2.59664444e+01  2.64391214e+01\n",
            "  2.66748505e+01  2.66796333e+01  2.64545680e+01  2.60026765e+01\n",
            "  2.53288265e+01  2.44396400e+01  2.33433894e+01  2.20498837e+01\n",
            "  2.05703459e+01  1.89172843e+01  1.71043584e+01  1.51396391e+01\n",
            "  1.30387952e+01  1.08294252e+01  8.52903617e+00  6.15551380e+00\n",
            "  3.72697869e+00  1.26164946e+00 -1.22228693e+00 -3.70679651e+00\n",
            " -6.17014862e+00 -8.59028675e+00 -1.09516293e+01 -1.32379536e+01\n",
            " -1.54338179e+01 -1.75246263e+01 -1.94966815e+01 -2.13317519e+01\n",
            " -2.29952001e+01 -2.44987532e+01 -2.58335652e+01 -2.69919481e+01\n",
            " -2.79673583e+01 -2.87543764e+01 -2.93186910e+01 -2.96679958e+01\n",
            " -2.98181354e+01 -2.97693731e+01 -2.95229769e+01 -2.90811595e+01\n",
            " -2.84133854e+01 -2.75430665e+01 -2.64934034e+01 -2.52713717e+01\n",
            " -2.38845608e+01 -2.23353782e+01 -2.06051319e+01 -1.87442619e+01\n",
            " -1.67635423e+01 -1.46739620e+01 -1.24866789e+01 -1.01933401e+01\n",
            " -7.83474328e+00 -5.42495146e+00 -2.97607515e+00 -5.00072086e-01]\n"
          ],
          "name": "stdout"
        }
      ]
    },
    {
      "cell_type": "markdown",
      "metadata": {
        "id": "XNoivrdGEjpr",
        "colab_type": "text"
      },
      "source": [
        "99. Given an integer n and a 2D array X, select from X the rows which can be interpreted as draws from a multinomial distribution with n degrees, i.e., the rows which only contain integers and which sum to n. "
      ]
    },
    {
      "cell_type": "code",
      "metadata": {
        "id": "0xLJF7n3lS6K",
        "colab_type": "code",
        "colab": {
          "base_uri": "https://localhost:8080/",
          "height": 34
        },
        "outputId": "df645cd8-d576-476a-f108-b0df7637ab54"
      },
      "source": [
        "X = np.asarray([[1.0, 0.0, 3.0, 8.0],\n",
        "                [2.0, 0.0, 1.0, 1.0],\n",
        "                [1.5, 2.5, 1.0, 0.0]])\n",
        "n = 4\n",
        "M = np.logical_and.reduce(np.mod(X, 1) == 0, axis=-1)\n",
        "M &= (X.sum(axis=-1) == n)\n",
        "print(X[M])"
      ],
      "execution_count": 20,
      "outputs": [
        {
          "output_type": "stream",
          "text": [
            "[[2. 0. 1. 1.]]\n"
          ],
          "name": "stdout"
        }
      ]
    },
    {
      "cell_type": "markdown",
      "metadata": {
        "id": "fYNpIfUMEjs4",
        "colab_type": "text"
      },
      "source": [
        "100. Compute bootstrapped 95% confidence intervals for the mean of a 1D array X (i.e., resample the elements of an array with replacement N times, compute the mean of each sample, and then compute percentiles over the means)."
      ]
    },
    {
      "cell_type": "code",
      "metadata": {
        "id": "Hh17zmQnlVcU",
        "colab_type": "code",
        "colab": {
          "base_uri": "https://localhost:8080/",
          "height": 34
        },
        "outputId": "f06c80f9-6d79-4779-a0fd-dc67b48d10f5"
      },
      "source": [
        "X = np.random.randn(100) # random 1D array\n",
        "N = 1000 # number of bootstrap samples\n",
        "idx = np.random.randint(0, X.size, (N, X.size))\n",
        "means = X[idx].mean(axis=1)\n",
        "confint = np.percentile(means, [2.5, 97.5])\n",
        "print(confint)"
      ],
      "execution_count": 21,
      "outputs": [
        {
          "output_type": "stream",
          "text": [
            "[-0.31320065  0.09491305]\n"
          ],
          "name": "stdout"
        }
      ]
    }
  ]
}